{
  "cells": [
    {
      "cell_type": "code",
      "execution_count": null,
      "id": "be4b8ec9",
      "metadata": {
        "id": "be4b8ec9"
      },
      "outputs": [],
      "source": [
        "import random\n",
        "import networkx as nx\n",
        "import matplotlib.pyplot as plt\n",
        "import numpy as np\n",
        "import math"
      ]
    },
    {
      "cell_type": "markdown",
      "id": "c9031999",
      "metadata": {
        "id": "c9031999"
      },
      "source": [
        "# Estimating number of mafia needed"
      ]
    },
    {
      "cell_type": "markdown",
      "id": "8235c53e",
      "metadata": {
        "id": "8235c53e"
      },
      "source": [
        "Below is edited code from https://www.alexirpan.com/2015/08/25/perfectly-intelligent-mafia.html to find the number of mafia needed in a given mafia game of n players so that the probability of winning of both parties is 50-50.\n"
      ]
    },
    {
      "cell_type": "code",
      "execution_count": null,
      "id": "d66b64f3",
      "metadata": {
        "id": "d66b64f3"
      },
      "outputs": [],
      "source": [
        "# import random\n",
        "\n",
        "# def simulate_game(n, m):\n",
        "#     # Simulate a game with n players, m mafia\n",
        "#     while n > 2 * m:\n",
        "#         # Lynch random player\n",
        "#         if random.randint(0, n - 1) < m:\n",
        "#             m -= 1\n",
        "#         if m == 0:\n",
        "#             return False  # Town wins\n",
        "#         # Mafia kills one townsperson\n",
        "#         n -= 2\n",
        "#     return True  # Mafia wins\n",
        "\n",
        "# def get_win_odds(n, m, trials=10000):\n",
        "#     return sum(simulate_game(n, m) for _ in range(trials)) / trials\n",
        "\n",
        "# def find_5050(n):\n",
        "#     threshold = 0.02\n",
        "#     low = 1 #minimum number of mafia\n",
        "#     high = n #maximum number of mafia\n",
        "#     while low < high: #binary search\n",
        "#         mid = (low + high) // 2\n",
        "#         per = get_win_odds(n, mid)\n",
        "#         #print(f'N={n}, low={low}, high={high}, mid={mid}, win chance={per:.3f}')\n",
        "#         if abs(per - 0.5) < threshold: #if per is around 0.48-0.52% => will be considered 50 50\n",
        "#             return mid\n",
        "#         elif per < 0.5:\n",
        "#             low = mid + 1\n",
        "#         else:\n",
        "#             high = mid\n",
        "#     return low\n",
        "\n",
        "# list_of_mafia = []\n",
        "# # Run for N = 7 to 15\n",
        "# for N in range(7, 100):\n",
        "#     #print(f'\\nGroup size N = {N}')\n",
        "#     mafia_needed = find_5050(N)\n",
        "#     list_of_mafia.append((N, mafia_needed))\n",
        "\n"
      ]
    },
    {
      "cell_type": "code",
      "execution_count": null,
      "id": "a6c9c860",
      "metadata": {
        "collapsed": true,
        "id": "a6c9c860"
      },
      "outputs": [],
      "source": [
        "# import matplotlib.pyplot as plt\n",
        "\n",
        "# # Unzip the list into two separate lists\n",
        "# n_vals, mafia_vals = zip(*list_of_mafia)\n",
        "\n",
        "# # Plot\n",
        "# plt.figure(figsize=(8, 6))\n",
        "# plt.plot(n_vals, mafia_vals, marker='o', linestyle='-')\n",
        "# plt.ylabel('Number of Mafia Needed for ~50% Win Rate')\n",
        "# plt.xlabel('Total Number of Players')\n",
        "# plt.title('Minimum Mafia Needed vs Group Size (Uniform Random Kill)')\n",
        "# plt.grid(True)\n",
        "# plt.tight_layout()\n",
        "# plt.show()\n"
      ]
    },
    {
      "cell_type": "code",
      "execution_count": null,
      "id": "f2ae22ed",
      "metadata": {
        "id": "f2ae22ed"
      },
      "outputs": [],
      "source": [
        "import random\n",
        "\n",
        "def mafia_game_simulation(n, m, max_steps=100):\n",
        "    players = {i: 'Mafia' if i < m else 'Town' for i in range(n)}\n",
        "    alive = set(players.keys())\n",
        "\n",
        "    t = 0\n",
        "    while True:\n",
        "        mafia_alive = [p for p in alive if players[p] == 'Mafia']\n",
        "        town_alive = [p for p in alive if players[p] == 'Town']\n",
        "\n",
        "        if len(mafia_alive) == 0:\n",
        "            return False  # Town wins\n",
        "        if len(mafia_alive) >= len(town_alive):\n",
        "            return True  # Mafia wins\n",
        "\n",
        "        if t % 2 == 0:\n",
        "            # Night: Mafia kills Town\n",
        "            if town_alive:\n",
        "                victim = random.choice(town_alive)\n",
        "                alive.remove(victim)\n",
        "        else:\n",
        "            # Day: Random player lynched\n",
        "            victim = random.choice(list(alive))\n",
        "            alive.remove(victim)\n",
        "\n",
        "        t += 1\n",
        "        if t > max_steps:\n",
        "            break\n",
        "\n",
        "    return None\n",
        "\n",
        "def estimate_mafia_win_prob(n, m, n_simulations=50000):\n",
        "    wins = sum(mafia_game_simulation(n, m) for _ in range(n_simulations))\n",
        "    return wins / n_simulations\n",
        "\n",
        "# Iterates through all possible n's, finds the number of mafias needed for p(mafia wins) = 0.5 by simulating each n 50,000 times\n",
        "def find_5050_realistic(n, threshold=0.02):\n",
        "    low = 1\n",
        "    high = n\n",
        "    while low < high:\n",
        "        mid = (low + high) // 2\n",
        "        win_rate = estimate_mafia_win_prob(n, mid)\n",
        "        #print(f'N={n}, low={low}, high={high}, mid={mid}, mafia win rate={win_rate:.3f}')\n",
        "        if abs(win_rate - 0.5) < threshold:\n",
        "            return mid\n",
        "        elif win_rate < 0.5:\n",
        "            low = mid + 1\n",
        "        else:\n",
        "            high = mid\n",
        "    return low\n",
        "\n",
        "list_of_mafia = []\n",
        "\n",
        "# Assuming that a small group of friends is between 7 to 25 people, what is the n needed so that p(mafia wins) = 0.5\n",
        "for n in range(7, 25):\n",
        "    mafia_needed = find_5050_realistic(n)\n",
        "    list_of_mafia.append((n, mafia_needed))"
      ]
    },
    {
      "cell_type": "code",
      "execution_count": null,
      "id": "26d09eaa",
      "metadata": {
        "colab": {
          "base_uri": "https://localhost:8080/",
          "height": 607
        },
        "collapsed": true,
        "id": "26d09eaa",
        "outputId": "be2edf72-a543-4111-a73c-094dc6de9e39"
      },
      "outputs": [],
      "source": [
        "# Untuple\n",
        "n_vals, mafia_vals = zip(*list_of_mafia)\n",
        "\n",
        "# Plot results\n",
        "plt.figure(figsize=(8, 6))\n",
        "plt.plot(n_vals, mafia_vals, marker='o', linestyle='-')\n",
        "plt.ylabel('Number of Mafia Needed for ~50% Win Rate')\n",
        "plt.xlabel('Total Number of Players')\n",
        "plt.title('Minimum Mafia Needed vs Group Size')\n",
        "plt.grid(True)\n",
        "plt.tight_layout()\n",
        "plt.show()"
      ]
    },
    {
      "cell_type": "code",
      "execution_count": null,
      "id": "4abeacd4",
      "metadata": {
        "colab": {
          "base_uri": "https://localhost:8080/"
        },
        "collapsed": true,
        "id": "4abeacd4",
        "outputId": "4e2d6e4a-f841-4927-e681-8f0dade7b299"
      },
      "outputs": [],
      "source": [
        "print(list_of_mafia[:10])"
      ]
    },
    {
      "cell_type": "markdown",
      "id": "8347830c",
      "metadata": {
        "id": "8347830c"
      },
      "source": [
        "# Base Model"
      ]
    },
    {
      "cell_type": "code",
      "execution_count": null,
      "id": "7889df13",
      "metadata": {
        "id": "7889df13"
      },
      "outputs": [],
      "source": [
        "def mafia_game_simulation(n, m, max_steps=100):\n",
        "    # n = total players\n",
        "    # m = number of mafia\n",
        "    # max_steps = maximum number of night/day cycles to avoid infinite loop\n",
        "\n",
        "    # Initialize players: assign each player an ID and a role (mafia or townsperson)\n",
        "    players = {i: 'Mafia' if i < m else 'Town' for i in range(n)}\n",
        "    alive = set(players.keys())\n",
        "\n",
        "    t = 0  # time step\n",
        "    while True:\n",
        "        # Check win conditions\n",
        "        mafia_alive = [p for p in alive if players[p] == 'Mafia']\n",
        "        town_alive = [p for p in alive if players[p] == 'Town']\n",
        "\n",
        "        if len(mafia_alive) == 0:\n",
        "            return False  # Town wins\n",
        "        if len(mafia_alive) >= len(town_alive):\n",
        "            return True  # Mafia wins\n",
        "\n",
        "        if t % 2 == 0:\n",
        "            # Night: Mafia kills a random Town player\n",
        "            if town_alive:\n",
        "                victim = random.choice(town_alive)\n",
        "                alive.remove(victim)\n",
        "        else:\n",
        "            # Day: Random player is lynched (could be Mafia or Town)\n",
        "            victim = random.choice(list(alive))\n",
        "            alive.remove(victim)\n",
        "\n",
        "        t += 1\n",
        "        if t > max_steps:\n",
        "            break  # just in case\n",
        "\n",
        "    return None  # if max steps reached\n",
        "\n",
        "def estimate_mafia_win_prob(n, m, n_simulations=10000):\n",
        "    wins = sum(mafia_game_simulation(n, m) for _ in range(n_simulations))\n",
        "    return wins / n_simulations"
      ]
    },
    {
      "cell_type": "markdown",
      "id": "c1552d75",
      "metadata": {
        "id": "c1552d75"
      },
      "source": [
        "# Model 1\n"
      ]
    },
    {
      "cell_type": "code",
      "execution_count": null,
      "id": "4e580f94",
      "metadata": {
        "id": "4e580f94"
      },
      "outputs": [],
      "source": [
        "num_red_edges = 5"
      ]
    },
    {
      "cell_type": "code",
      "execution_count": null,
      "id": "18e021b6",
      "metadata": {
        "id": "18e021b6"
      },
      "outputs": [],
      "source": [
        "def mafia_game_simulation_fixed_red_updated(n, m, num_red_edges, max_steps=100, red_bias_weight=2.0):\n",
        "    players = {i: 'Mafia' if i < m else 'Town' for i in range(n)}\n",
        "    alive = set(players.keys())\n",
        "\n",
        "    # Build red edge graph\n",
        "    G = nx.Graph()\n",
        "    G.add_nodes_from(range(n))\n",
        "\n",
        "    possible_pairs = [(i, j) for i in range(n) for j in range(i+1, n)]\n",
        "    red_edges = random.sample(possible_pairs, num_red_edges)\n",
        "    G.add_edges_from(red_edges)\n",
        "\n",
        "    t = 0\n",
        "    while True:\n",
        "        mafia_alive = [p for p in alive if players[p] == 'Mafia']\n",
        "        town_alive = [p for p in alive if players[p] == 'Town']\n",
        "\n",
        "        if len(mafia_alive) == 0:\n",
        "            return False  # Town wins\n",
        "        if len(mafia_alive) >= len(town_alive):\n",
        "            return True  # Mafia wins\n",
        "\n",
        "        if t % 2 == 0:\n",
        "            # Night: Mafia kills biased Town\n",
        "            if town_alive:\n",
        "                town_list = list(town_alive)\n",
        "                # Calculate night kill weights\n",
        "                night_weights = []\n",
        "                for town in town_list:\n",
        "                    has_enemy = any((G.has_edge(town, mafia) and mafia in alive) for mafia in mafia_alive)\n",
        "                    weight = red_bias_weight if has_enemy else 1.0\n",
        "                    night_weights.append(weight)\n",
        "\n",
        "                # Normalize weights and pick\n",
        "                total_weight = sum(night_weights)\n",
        "                night_probs = [w / total_weight for w in night_weights]\n",
        "\n",
        "                victim = random.choices(town_list, weights=night_probs, k=1)[0]\n",
        "                alive.remove(victim)\n",
        "        else:\n",
        "            # Day: Biased lynch based on red edges\n",
        "            alive_list = list(alive)\n",
        "\n",
        "            # Calculate lynch weights\n",
        "            lynch_weights = []\n",
        "            for node in alive_list:\n",
        "                neighbors = list(G.neighbors(node))\n",
        "                has_enemy = any(neighbor in alive for neighbor in neighbors)\n",
        "                weight = red_bias_weight if has_enemy else 1.0\n",
        "                lynch_weights.append(weight)\n",
        "\n",
        "            total_weight = sum(lynch_weights)\n",
        "            lynch_probs = [w / total_weight for w in lynch_weights]\n",
        "\n",
        "            victim = random.choices(alive_list, weights=lynch_probs, k=1)[0]\n",
        "            alive.remove(victim)\n",
        "\n",
        "        t += 1\n",
        "        if t > max_steps:\n",
        "            break\n",
        "\n",
        "    return None\n",
        "\n",
        "def estimate_mafia_win_prob_fixed_red_updated(n, m, num_red_edges, n_simulations=5000):\n",
        "    wins = sum(mafia_game_simulation_fixed_red_updated(n, m, num_red_edges) for _ in range(n_simulations))\n",
        "    return wins / n_simulations"
      ]
    },
    {
      "cell_type": "markdown",
      "id": "7126492d",
      "metadata": {
        "id": "7126492d"
      },
      "source": [
        "# Model 2"
      ]
    },
    {
      "cell_type": "code",
      "execution_count": null,
      "id": "5b58e2b2",
      "metadata": {
        "id": "5b58e2b2"
      },
      "outputs": [],
      "source": [
        "num_green_edges = 5"
      ]
    },
    {
      "cell_type": "code",
      "execution_count": null,
      "id": "70151f68",
      "metadata": {
        "id": "70151f68"
      },
      "outputs": [],
      "source": [
        "def mafia_game_simulation_fixed_green(n, m, num_green_edges, max_steps=100, green_bias_weight=0.5):\n",
        "    players = {i: 'Mafia' if i < m else 'Town' for i in range(n)}\n",
        "    alive = set(players.keys())\n",
        "\n",
        "    # Build green edge graph\n",
        "    G = nx.Graph()\n",
        "    G.add_nodes_from(range(n))\n",
        "\n",
        "    possible_pairs = [(i, j) for i in range(n) for j in range(i+1, n)]\n",
        "    green_edges = random.sample(possible_pairs, num_green_edges)\n",
        "    G.add_edges_from(green_edges)\n",
        "\n",
        "    t = 0\n",
        "    while True:\n",
        "        mafia_alive = [p for p in alive if players[p] == 'Mafia']\n",
        "        town_alive = [p for p in alive if players[p] == 'Town']\n",
        "\n",
        "        if len(mafia_alive) == 0:\n",
        "            return False  # Town wins\n",
        "        if len(mafia_alive) >= len(town_alive):\n",
        "            return True  # Mafia wins\n",
        "\n",
        "        if t % 2 == 0:\n",
        "            # Night: Mafia kills Town (less likely to kill friends)\n",
        "            if town_alive:\n",
        "                town_list = list(town_alive)\n",
        "                night_weights = []\n",
        "                for town in town_list:\n",
        "                    has_friend = any((G.has_edge(town, mafia) and mafia in alive) for mafia in mafia_alive)\n",
        "                    weight = green_bias_weight if has_friend else 1.0\n",
        "                    night_weights.append(weight)\n",
        "\n",
        "                total_weight = sum(night_weights)\n",
        "                night_probs = [w / total_weight for w in night_weights]\n",
        "\n",
        "                victim = random.choices(town_list, weights=night_probs, k=1)[0]\n",
        "                alive.remove(victim)\n",
        "        else:\n",
        "            # Day: Biased lynch - less likely to lynch friends\n",
        "            alive_list = list(alive)\n",
        "\n",
        "            lynch_weights = []\n",
        "            for node in alive_list:\n",
        "                has_friend = any((G.has_edge(node, neighbor) and neighbor in alive) for neighbor in G.neighbors(node))\n",
        "                weight = green_bias_weight if has_friend else 1.0\n",
        "                lynch_weights.append(weight)\n",
        "\n",
        "            total_weight = sum(lynch_weights)\n",
        "            lynch_probs = [w / total_weight for w in lynch_weights]\n",
        "\n",
        "            victim = random.choices(alive_list, weights=lynch_probs, k=1)[0]\n",
        "            alive.remove(victim)\n",
        "\n",
        "        t += 1\n",
        "        if t > max_steps:\n",
        "            break\n",
        "\n",
        "    return None\n",
        "\n",
        "def estimate_mafia_win_prob_fixed_green(n, m, num_green_edges, n_simulations=5000):\n",
        "    wins = sum(mafia_game_simulation_fixed_green(n, m, num_green_edges) for _ in range(n_simulations))\n",
        "    return wins / n_simulations"
      ]
    },
    {
      "cell_type": "markdown",
      "id": "2e28b84c",
      "metadata": {
        "id": "2e28b84c"
      },
      "source": [
        "# Ultimate model"
      ]
    },
    {
      "cell_type": "code",
      "execution_count": null,
      "id": "7d34908a",
      "metadata": {
        "id": "7d34908a"
      },
      "outputs": [],
      "source": [
        "def mafia_game_simulation_red_green(n, m, num_red_edges, num_green_edges, max_steps=100, red_bias_weight=2.0,green_bias_weight=0.5):\n",
        "    players = {i: 'Mafia' if i < m else 'Town' for i in range(n)}\n",
        "    alive = set(players.keys())\n",
        "\n",
        "    # Build red and green edge graphs\n",
        "    red_G = nx.Graph()\n",
        "    green_G = nx.Graph()\n",
        "    red_G.add_nodes_from(range(n))\n",
        "    green_G.add_nodes_from(range(n))\n",
        "\n",
        "    # Create possible unique pairs\n",
        "    possible_pairs = [(i, j) for i in range(n) for j in range(i+1, n)]\n",
        "    sampled_pairs = random.sample(possible_pairs, num_red_edges + num_green_edges)\n",
        "\n",
        "    red_edges = sampled_pairs[:num_red_edges]\n",
        "    green_edges = sampled_pairs[num_red_edges:]\n",
        "\n",
        "    red_G.add_edges_from(red_edges)\n",
        "    green_G.add_edges_from(green_edges)\n",
        "    \n",
        "    #print(\"Red edges:\" ,red_edges)\n",
        "    #print(\"Green edges:\" ,green_edges)\n",
        "\n",
        "    t = 0\n",
        "    while True:\n",
        "        mafia_alive = [p for p in alive if players[p] == 'Mafia']\n",
        "        town_alive = [p for p in alive if players[p] == 'Town']\n",
        "\n",
        "        if len(mafia_alive) == 0:\n",
        "            return False  # Town wins\n",
        "        if len(mafia_alive) >= len(town_alive):\n",
        "            return True  # Mafia wins\n",
        "\n",
        "        if t % 2 == 0:\n",
        "            # Night: Mafia kills Town\n",
        "            if town_alive:\n",
        "                town_list = list(town_alive)\n",
        "                night_weights = []\n",
        "                for town in town_list:\n",
        "                    # Check red and green connections with alive Mafia\n",
        "                    num_enemy = sum((red_G.has_edge(town, mafia) and mafia in alive) for mafia in mafia_alive)\n",
        "                    num_friend = sum((green_G.has_edge(town, mafia) and mafia in alive) for mafia in mafia_alive)\n",
        "\n",
        "                    weight = 1.0\n",
        "                    #weight of getting killed is proportional to the number of enemies and vice versa for friends\n",
        "                    if num_enemy > 0:\n",
        "                        weight = (weight) * red_bias_weight**num_enemy\n",
        "                    if num_friend > 0:\n",
        "                        weight = (weight) * (green_bias_weight**num_friend)\n",
        "                    night_weights.append(weight)\n",
        "                total_weight = sum(night_weights)\n",
        "                night_probs = [w / total_weight for w in night_weights]\n",
        "                victim = random.choices(town_list, weights=night_probs, k=1)[0]\n",
        "                alive.remove(victim)\n",
        "        else:\n",
        "            # Day: Lynch based on red and green biases\n",
        "            alive_list = list(alive)\n",
        "            lynch_weights = []\n",
        "            node_friend = []\n",
        "            node_enemy = []\n",
        "            for node in alive_list:\n",
        "                num_enemy = sum((red_G.has_edge(node, neighbor) and neighbor in alive) for neighbor in red_G.neighbors(node))\n",
        "                num_friend = sum((green_G.has_edge(node, neighbor) and neighbor in alive) for neighbor in green_G.neighbors(node))\n",
        "                weight = 1.0\n",
        "                    #weight of getting lynched is proportional to the number of enemies and vice versa for friends\n",
        "                if num_enemy > 0:\n",
        "                    weight = (weight) * red_bias_weight**num_enemy\n",
        "                if num_friend > 0:\n",
        "                    weight = (weight) * (green_bias_weight**num_friend)\n",
        "                lynch_weights.append(weight)\n",
        "                node_friend.append(num_friend)\n",
        "                node_enemy.append(num_enemy)\n",
        "            total_weight = sum(lynch_weights)\n",
        "            #print(\"Lynch weight: \",lynch_weights)\n",
        "            lynch_probs = [w / total_weight for w in lynch_weights]\n",
        "            victim = random.choices(alive_list, weights=lynch_probs, k=1)[0]\n",
        "            alive.remove(victim)\n",
        "            #print(\"Node Friend\", node_friend)\n",
        "            #print(\"Node Enemy\", node_enemy)\n",
        "        t += 1\n",
        "        if t > max_steps:\n",
        "            break\n",
        "    return None\n",
        "\n",
        "def estimate_mafia_win_prob_red_green(n, m, num_red_edges, num_green_edges, n_simulations=1):\n",
        "    wins = sum(mafia_game_simulation_red_green(n, m, num_red_edges, num_green_edges) for _ in range(n_simulations))\n",
        "    return wins / n_simulations\n",
        "\n"
      ]
    },
    {
      "cell_type": "code",
      "execution_count": null,
      "id": "ibvFkIKsKOao",
      "metadata": {
        "colab": {
          "base_uri": "https://localhost:8080/"
        },
        "id": "ibvFkIKsKOao",
        "outputId": "4af28eae-ebff-4c80-c22f-5cc77088b276"
      },
      "outputs": [],
      "source": [
        "#estimate_mafia_win_prob_red_green(22,2,3,15,1)"
      ]
    },
    {
      "cell_type": "markdown",
      "id": "XGgx2pASAH6e",
      "metadata": {
        "id": "XGgx2pASAH6e"
      },
      "source": []
    },
    {
      "cell_type": "code",
      "execution_count": null,
      "id": "bd34cb32",
      "metadata": {
        "collapsed": true,
        "id": "bd34cb32"
      },
      "outputs": [],
      "source": [
        "\n",
        "def mafia_game_simulation_red_green_plot(n, m, num_red_edges, num_green_edges, max_steps=100, red_bias_weight=2.0, green_bias_weight=0.5):\n",
        "    players = {i: 'Mafia' if i < m else 'Town' for i in range(n)}\n",
        "    alive = set(players.keys())\n",
        "\n",
        "    # Build red and green edge graphs\n",
        "    red_G = nx.Graph()\n",
        "    green_G = nx.Graph()\n",
        "    red_G.add_nodes_from(range(n))\n",
        "    green_G.add_nodes_from(range(n))\n",
        "\n",
        "    possible_pairs = [(i, j) for i in range(n) for j in range(i+1, n)]\n",
        "    sampled_pairs = random.sample(possible_pairs, num_red_edges + num_green_edges)\n",
        "\n",
        "    red_edges = sampled_pairs[:num_red_edges]\n",
        "    green_edges = sampled_pairs[num_red_edges:]\n",
        "\n",
        "    red_G.add_edges_from(red_edges)\n",
        "    green_G.add_edges_from(green_edges)\n",
        "\n",
        "    # Combined graph for visualization\n",
        "    full_G = nx.Graph()\n",
        "    full_G.add_nodes_from(range(n))\n",
        "    full_G.add_edges_from(red_edges)\n",
        "    full_G.add_edges_from(green_edges)\n",
        "\n",
        "    # Fixed layout for consistent position\n",
        "    pos = nx.spring_layout(full_G, seed=42)\n",
        "\n",
        "    t = 0\n",
        "    while True:\n",
        "        mafia_alive = [p for p in alive if players[p] == 'Mafia']\n",
        "        town_alive = [p for p in alive if players[p] == 'Town']\n",
        "\n",
        "        if len(mafia_alive) == 0:\n",
        "            print(f'\\nGame ended at t={t}: Town wins!\\n')\n",
        "            break\n",
        "        if len(mafia_alive) >= len(town_alive):\n",
        "            print(f'\\nGame ended at t={t}: Mafia wins!\\n')\n",
        "            break\n",
        "\n",
        "        plot_current_state(full_G, alive, players, red_edges, green_edges, pos, t)\n",
        "\n",
        "        if t % 2 == 0:\n",
        "            # Mafia's move (even t)\n",
        "            if town_alive:\n",
        "                town_list = list(town_alive)\n",
        "                night_weights = []\n",
        "                for town in town_list:\n",
        "                    has_enemy = any((red_G.has_edge(town, mafia) and mafia in alive) for mafia in mafia_alive)\n",
        "                    has_friend = any((green_G.has_edge(town, mafia) and mafia in alive) for mafia in mafia_alive)\n",
        "                    weight = 1.0\n",
        "                    if has_enemy:\n",
        "                        weight *= red_bias_weight\n",
        "                    if has_friend:\n",
        "                        weight *= green_bias_weight\n",
        "                    night_weights.append(weight)\n",
        "\n",
        "                total_weight = sum(night_weights)\n",
        "                night_probs = [w / total_weight for w in night_weights]\n",
        "\n",
        "                victim = random.choices(town_list, weights=night_probs, k=1)[0]\n",
        "                alive.remove(victim)\n",
        "                print(f'Night {t//2 + 1}: Mafia killed player {victim}')\n",
        "        else:\n",
        "            # Town's move (odd t)\n",
        "            alive_list = list(alive)\n",
        "            lynch_weights = []\n",
        "            for node in alive_list:\n",
        "                has_enemy = any((red_G.has_edge(node, neighbor) and neighbor in alive) for neighbor in red_G.neighbors(node))\n",
        "                has_friend = any((green_G.has_edge(node, neighbor) and neighbor in alive) for neighbor in green_G.neighbors(node))\n",
        "                weight = 1.0\n",
        "                if has_enemy:\n",
        "                    weight *= red_bias_weight\n",
        "                if has_friend:\n",
        "                    weight *= green_bias_weight\n",
        "                lynch_weights.append(weight)\n",
        "\n",
        "            total_weight = sum(lynch_weights)\n",
        "            lynch_probs = [w / total_weight for w in lynch_weights]\n",
        "\n",
        "            victim = random.choices(alive_list, weights=lynch_probs, k=1)[0]\n",
        "            alive.remove(victim)\n",
        "            print(f'Day {t//2 + 1}: Town lynched player {victim}')\n",
        "\n",
        "        t += 1\n",
        "\n",
        "        if t > max_steps:\n",
        "            print(f'\\nGame ended at t={t}: Max steps reached\\n')\n",
        "            break\n",
        "\n",
        "    return None\n",
        "\n",
        "def plot_current_state(G, alive, players, red_edges, green_edges, pos, t):\n",
        "    plt.figure(figsize=(8, 6))\n",
        "\n",
        "    node_colors = []\n",
        "    for node in G.nodes():\n",
        "        if node in alive:\n",
        "            if players[node] == 'Mafia':\n",
        "                node_colors.append('red')\n",
        "            else:\n",
        "                node_colors.append('blue')\n",
        "        else:\n",
        "            node_colors.append('gray')  # Dead players are gray\n",
        "\n",
        "    # Draw green and red edges between alive players only\n",
        "    green_edges_alive = [(u, v) for u, v in green_edges if u in alive and v in alive]\n",
        "    red_edges_alive = [(u, v) for u, v in red_edges if u in alive and v in alive]\n",
        "\n",
        "    nx.draw_networkx_edges(G, pos, edgelist=green_edges_alive, edge_color='green', style='solid')\n",
        "    nx.draw_networkx_edges(G, pos, edgelist=red_edges_alive, edge_color='red', style='dashed')\n",
        "\n",
        "    nx.draw_networkx_nodes(G, pos, node_color=node_colors, node_size=500)\n",
        "\n",
        "    labels = {node: str(node) for node in G.nodes()}\n",
        "    nx.draw_networkx_labels(G, pos, labels=labels, font_color='white')\n",
        "\n",
        "    # ==== NEW part: Better title ====\n",
        "    if t == 0:\n",
        "        phase = \"Night 1\"\n",
        "    elif t % 2 == 0:\n",
        "        phase = f\"Night {t//2 + 1}\"  # Even t (after t=0) = night\n",
        "    else:\n",
        "        phase = f\"Day {(t+1)//2}\"  # Odd t = day\n",
        "\n",
        "    plt.title(f'Time Step {t} — {phase}', fontsize=16)\n",
        "    plt.axis('off')\n",
        "    plt.show()\n"
      ]
    },
    {
      "cell_type": "code",
      "execution_count": null,
      "id": "IZMIQ_t9LUT0",
      "metadata": {
        "colab": {
          "base_uri": "https://localhost:8080/",
          "height": 1000
        },
        "id": "IZMIQ_t9LUT0",
        "outputId": "e2dd2de9-14dc-4b4e-f4f6-273e762759d2"
      },
      "outputs": [],
      "source": [
        "#mafia_game_simulation_red_green_plot(22,2,1,1)"
      ]
    },
    {
      "cell_type": "markdown",
      "id": "533c3177",
      "metadata": {
        "id": "533c3177"
      },
      "source": [
        "# Compare"
      ]
    },
    {
      "cell_type": "code",
      "execution_count": null,
      "id": "d104cff7",
      "metadata": {
        "id": "d104cff7"
      },
      "outputs": [],
      "source": [
        "#Initial Condition\n",
        "n = 22  # total players\n",
        "m = 2 # number of mafia\n",
        "n_simulations = 50000\n",
        "\n",
        "num_red_edges = 30\n",
        "num_green_edges = 30"
      ]
    },
    {
      "cell_type": "code",
      "execution_count": null,
      "id": "4fe5810f",
      "metadata": {
        "colab": {
          "base_uri": "https://localhost:8080/"
        },
        "collapsed": true,
        "id": "4fe5810f",
        "outputId": "fd790152-2bb0-44b4-908a-b116f351f476"
      },
      "outputs": [],
      "source": [
        "win_rate = estimate_mafia_win_prob(n, m, n_simulations)\n",
        "print(f'Estimated Mafia win rate with {m} mafia in {n} players and no relationships: {win_rate:.3f}')"
      ]
    },
    {
      "cell_type": "code",
      "execution_count": null,
      "id": "2d155ffd",
      "metadata": {
        "colab": {
          "base_uri": "https://localhost:8080/"
        },
        "id": "2d155ffd",
        "outputId": "9d9d0808-520b-4e16-fe6b-0473604bc572"
      },
      "outputs": [],
      "source": [
        "win_rate_fixed_red_updated = estimate_mafia_win_prob_fixed_red_updated(n, m, num_red_edges, n_simulations)\n",
        "print(f'Estimated Mafia win rate with {num_red_edges} red edges (n={n}, m={m}): {win_rate_fixed_red_updated:.3f}')"
      ]
    },
    {
      "cell_type": "code",
      "execution_count": null,
      "id": "9de23494",
      "metadata": {
        "colab": {
          "base_uri": "https://localhost:8080/"
        },
        "id": "9de23494",
        "outputId": "18807895-38d4-419d-c4d6-e5b457ad3ff9"
      },
      "outputs": [],
      "source": [
        "win_rate_fixed_green = estimate_mafia_win_prob_fixed_green(n, m, num_green_edges, n_simulations)\n",
        "print(f'Estimated Mafia win rate with {num_green_edges} green edges (n={n}, m={m}): {win_rate_fixed_green:.3f}')"
      ]
    },
    {
      "cell_type": "code",
      "execution_count": null,
      "id": "d9aee711",
      "metadata": {
        "colab": {
          "base_uri": "https://localhost:8080/"
        },
        "id": "d9aee711",
        "outputId": "40ec10eb-d371-4820-ba1c-c730dc9d6884"
      },
      "outputs": [],
      "source": [
        "win_rate_red_green = estimate_mafia_win_prob_red_green(n, m, num_red_edges, num_green_edges, n_simulations)\n",
        "print(f'Estimated Mafia win rate with {num_red_edges} red edges and {num_green_edges} green edges (n={n}, m={m}): {win_rate_red_green:.3f}')"
      ]
    },
    {
      "cell_type": "markdown",
      "id": "PbfW1C4VnyUp",
      "metadata": {
        "id": "PbfW1C4VnyUp"
      },
      "source": [
        "# Non-Dimensionalization"
      ]
    },
    {
      "cell_type": "markdown",
      "id": "plfz-_46udwY",
      "metadata": {
        "id": "plfz-_46udwY"
      },
      "source": [
        "Assuming complete graph, change proportion of Red and Green edge. Fix n = 22, m = 2"
      ]
    },
    {
      "cell_type": "code",
      "execution_count": null,
      "id": "x1y2LrTzoUXf",
      "metadata": {
        "colab": {
          "base_uri": "https://localhost:8080/",
          "height": 336
        },
        "collapsed": true,
        "id": "x1y2LrTzoUXf",
        "outputId": "97f17af9-37ec-47ba-ad6b-4ac4c9a4ccbb"
      },
      "outputs": [],
      "source": [
        "def estimate_mafia_win_prob_red_green_red_green_proportion_experiment(n, m, num_red_edges, num_green_edges, n_simulations=5000):\n",
        "    wins = sum(mafia_game_simulation_red_green(n, m, num_red_edges, num_green_edges) for _ in range(n_simulations))\n",
        "    return wins / n_simulations\n",
        "\n",
        "def red_green_proportion_experiment(n, m, max_steps=100, red_bias_weight=2.0, green_bias_weight=0.5, step=0.01):\n",
        "    total_edges = n*(n - 1)//2\n",
        "    proportions = np.arange(step, 1.0 + step, step)\n",
        "    win_rates = []\n",
        "\n",
        "    for red_prop in proportions:\n",
        "        num_red_edges = int(red_prop * total_edges)\n",
        "        num_green_edges = total_edges - num_red_edges\n",
        "        win_rate = estimate_mafia_win_prob_red_green_red_green_proportion_experiment(\n",
        "            n=n,\n",
        "            m=m,\n",
        "            num_red_edges=num_red_edges,\n",
        "            num_green_edges=num_green_edges,\n",
        "            n_simulations=1000\n",
        "        )\n",
        "\n",
        "        win_rates.append(win_rate)\n",
        "\n",
        "    plt.plot(proportions, win_rates, marker='o')\n",
        "    plt.xlabel(\"Proportion of Red Edges\")\n",
        "    plt.ylabel(\"Mafia Win Rate\")\n",
        "    plt.title(\"Mafia Win Rate vs. Proportion of Red Edges\")\n",
        "    plt.grid(True)\n",
        "    plt.show()\n",
        "\n",
        "red_green_proportion_experiment(22, 2, max_steps=100, red_bias_weight=2.0, green_bias_weight=0.5, step=0.01)"
      ]
    },
    {
      "cell_type": "markdown",
      "id": "sY_Ans-s7q7U",
      "metadata": {
        "id": "sY_Ans-s7q7U"
      },
      "source": [
        "Fix proportion of red and green at 1 green,1 red, fix n = 22, change weight\n",
        "\n"
      ]
    },
    {
      "cell_type": "code",
      "execution_count": null,
      "id": "QWGHKAyTuTkZ",
      "metadata": {
        "colab": {
          "base_uri": "https://localhost:8080/",
          "height": 692
        },
        "id": "QWGHKAyTuTkZ",
        "outputId": "b1102392-c011-487a-f3fe-1aa29b202ac4"
      },
      "outputs": [],
      "source": [
        "def estimate_mafia_win_prob_red_green_edge_weight_experiment(n, m, red_bias, green_bias, n_simulations=5000):\n",
        "    red_edges = 1\n",
        "    green_edges = 1\n",
        "    wins = sum(\n",
        "        mafia_game_simulation_red_green(\n",
        "            n, m, red_edges, green_edges,\n",
        "            red_bias_weight=red_bias,\n",
        "            green_bias_weight=green_bias\n",
        "        )\n",
        "        for _ in range(n_simulations)\n",
        "    )\n",
        "    return wins / n_simulations\n",
        "\n",
        "def edge_weight_experiment(max_steps=100, step=1):\n",
        "    # --- Sweep over RED bias weights ---\n",
        "    \n",
        "    red_bias_list = np.arange(1, 100, 1)\n",
        "    win_rates_red = []\n",
        "\n",
        "    for red_bias in red_bias_list:\n",
        "        win_rate = estimate_mafia_win_prob_red_green_edge_weight_experiment(\n",
        "            n=22,\n",
        "            m=2,\n",
        "            red_bias=red_bias,\n",
        "            green_bias=0.5,\n",
        "            n_simulations=100\n",
        "        )\n",
        "        win_rates_red.append(win_rate)\n",
        "\n",
        "    plt.figure(figsize=(8, 5))\n",
        "    plt.plot(red_bias_list, win_rates_red, marker='o')\n",
        "    plt.xlabel(\"Red Bias Weight\")\n",
        "    plt.ylabel(\"Mafia Win Rate\")\n",
        "    plt.title(\"Mafia Win Rate vs. Red Bias Weight\")\n",
        "    plt.grid(True)\n",
        "    plt.tight_layout()\n",
        "    plt.show()\n",
        "  \n",
        "    green_bias_list = np.arange(0.01, 1.01, .01)\n",
        "    win_rates_green = []\n",
        "\n",
        "    for green_bias in green_bias_list:\n",
        "        win_rate = estimate_mafia_win_prob_red_green_edge_weight_experiment(\n",
        "            n=22,\n",
        "            m=2,\n",
        "            red_bias=2.0,\n",
        "            green_bias=green_bias,\n",
        "            n_simulations=100\n",
        "        )\n",
        "        win_rates_green.append(win_rate)\n",
        "\n",
        "    plt.figure(figsize=(8, 5))\n",
        "    plt.plot(green_bias_list, win_rates_green, marker='o', color='green')\n",
        "    plt.xlabel(\"Green Bias Weight\")\n",
        "    plt.ylabel(\"Mafia Win Rate\")\n",
        "    plt.title(\"Mafia Win Rate vs. Green Bias Weight\")\n",
        "    plt.grid(True)\n",
        "    plt.tight_layout()\n",
        "    plt.show()\n",
        "\n",
        "    #print(green_bias_list)\n",
        "    #print(win_rates_green)\n",
        "\n",
        "edge_weight_experiment()"
      ]
    },
    {
      "cell_type": "markdown",
      "id": "z8oug99symfO",
      "metadata": {
        "id": "z8oug99symfO"
      },
      "source": [
        "Fix proportion of red and green at 0.5, fix n = 22, fix red weight at 2.0, green weight at 0.5, change number of edges"
      ]
    },
    {
      "cell_type": "code",
      "execution_count": null,
      "id": "8UhO-bWPzyQY",
      "metadata": {
        "id": "8UhO-bWPzyQY"
      },
      "outputs": [],
      "source": [
        "def estimate_mafia_win_prob_red_green_num_edge_experiment(n, m,num_edge, n_simulations=10000):\n",
        "    red_edges = math.floor(num_edge/2)\n",
        "    green_edges = math.floor(num_edge/2)\n",
        "    wins = sum(\n",
        "        mafia_game_simulation_red_green(\n",
        "            n, m, red_edges, green_edges,\n",
        "            red_bias_weight=2.0,\n",
        "            green_bias_weight=0.5\n",
        "        )\n",
        "        for _ in range(n_simulations)\n",
        "    )\n",
        "    return wins / n_simulations\n",
        "\n",
        "def num_edge_experiment(max_steps=100, step=1):\n",
        "    max_edge = int(math.factorial(22)/(2*math.factorial(20)))\n",
        "    num_edge_list = np.arange(1, max_edge, step)\n",
        "    win_rates = []\n",
        "\n",
        "    for edge in num_edge_list:\n",
        "        win_rate = estimate_mafia_win_prob_red_green_num_edge_experiment(\n",
        "            n=22,\n",
        "            m=2,\n",
        "            num_edge = edge,\n",
        "            n_simulations=10000\n",
        "        )\n",
        "        win_rates.append(win_rate)\n",
        "\n",
        "    plt.figure(figsize=(8, 5))\n",
        "    plt.plot(num_edge_list, win_rates, marker='o')\n",
        "    plt.xlabel(\"Num Edges\")\n",
        "    plt.ylabel(\"Mafia Win Rate\")\n",
        "    plt.title(\"Mafia Win Rate vs. Num Edges\")\n",
        "    plt.grid(True)\n",
        "    plt.tight_layout()\n",
        "    plt.show()\n",
        "\n",
        "num_edge_experiment()"
      ]
    },
    {
      "cell_type": "code",
      "execution_count": null,
      "id": "dbecfc1d",
      "metadata": {},
      "outputs": [],
      "source": [
        "math.factorial(22)/(2*math.factorial(20))"
      ]
    },
    {
      "cell_type": "markdown",
      "id": "9df2efef",
      "metadata": {},
      "source": [
        "# Testing Robustness for Prefrential Attachment Graph"
      ]
    },
    {
      "cell_type": "code",
      "execution_count": null,
      "id": "765748cd",
      "metadata": {},
      "outputs": [],
      "source": [
        "def PA_mafia_game_simulation_red_green(n, m, num_red_edges, num_green_edges, max_steps=100, red_bias_weight=2.0, green_bias_weight=0.5):\n",
        "    players = {i: 'Mafia' if i < m else 'Town' for i in range(n)}\n",
        "    alive = set(players.keys())\n",
        "\n",
        "    # Build red and green edge graphs with preferential attachment\n",
        "    red_G = nx.barabasi_albert_graph(n, max(1, num_red_edges // n))\n",
        "    green_G = nx.barabasi_albert_graph(n, max(1, num_green_edges // n))\n",
        "\n",
        "    while green_G.number_of_edges() > num_green_edges:\n",
        "        u, v = random.choice(list(green_G.edges()))\n",
        "        green_G.remove_edge(u, v)\n",
        "\n",
        "    t = 0\n",
        "    while True:\n",
        "        mafia_alive = [p for p in alive if players[p] == 'Mafia']\n",
        "        town_alive = [p for p in alive if players[p] == 'Town']\n",
        "\n",
        "        if len(mafia_alive) == 0:\n",
        "            return False  # Town wins\n",
        "        if len(mafia_alive) >= len(town_alive):\n",
        "            return True  # Mafia wins\n",
        "\n",
        "        if t % 2 == 0:\n",
        "            # Night: Mafia kills Town\n",
        "            if town_alive:\n",
        "                town_list = list(town_alive)\n",
        "                night_weights = []\n",
        "                for town in town_list:\n",
        "                    num_enemy = sum((red_G.has_edge(town, mafia) and mafia in alive) for mafia in mafia_alive)\n",
        "                    num_friend = sum((green_G.has_edge(town, mafia) and mafia in alive) for mafia in mafia_alive)\n",
        "\n",
        "                    weight = 1.0\n",
        "                    if num_enemy > 0:\n",
        "                        weight *= red_bias_weight**num_enemy\n",
        "                    if num_friend > 0:\n",
        "                        weight *= green_bias_weight**num_friend\n",
        "                    night_weights.append(weight)\n",
        "\n",
        "                total_weight = sum(night_weights)\n",
        "                night_probs = [w / total_weight for w in night_weights]\n",
        "                victim = random.choices(town_list, weights=night_probs, k=1)[0]\n",
        "                alive.remove(victim)\n",
        "        else:\n",
        "            # Day: Lynch based on red and green biases\n",
        "            alive_list = list(alive)\n",
        "            lynch_weights = []\n",
        "            for node in alive_list:\n",
        "                num_enemy = sum((red_G.has_edge(node, neighbor) and neighbor in alive) for neighbor in red_G.neighbors(node))\n",
        "                num_friend = sum((green_G.has_edge(node, neighbor) and neighbor in alive) for neighbor in green_G.neighbors(node))\n",
        "\n",
        "                weight = 1.0\n",
        "                if num_enemy > 0:\n",
        "                    weight = weight * red_bias_weight**num_enemy\n",
        "                if num_friend > 0:\n",
        "                    weight = weight * green_bias_weight**num_friend\n",
        "                lynch_weights.append(weight)\n",
        "\n",
        "            total_weight = sum(lynch_weights)\n",
        "            lynch_probs = [w / total_weight for w in lynch_weights]\n",
        "            victim = random.choices(alive_list, weights=lynch_probs, k=1)[0]\n",
        "            alive.remove(victim)\n",
        "\n",
        "        t += 1\n",
        "        if t > max_steps:\n",
        "            break\n",
        "    return None"
      ]
    },
    {
      "cell_type": "markdown",
      "id": "325bfff9",
      "metadata": {},
      "source": [
        "Assuming complete graph, change proportion of Red and Green edge. Fix n = 22, m = 2"
      ]
    },
    {
      "cell_type": "code",
      "execution_count": null,
      "id": "90f81269",
      "metadata": {},
      "outputs": [],
      "source": [
        "def PA_estimate_mafia_win_prob_red_green_red_green_proportion_experiment(n, m, num_red_edges, num_green_edges, n_simulations=5000):\n",
        "    wins = sum(PA_mafia_game_simulation_red_green(n, m, num_red_edges, num_green_edges) for _ in range(n_simulations))\n",
        "    return wins / n_simulations\n",
        "\n",
        "def PA_red_green_proportion_experiment(n, m, max_steps=100, red_bias_weight=2.0, green_bias_weight=0.5, step=0.01):\n",
        "    total_edges = int(math.factorial(22)/(2*math.factorial(20)))\n",
        "    proportions = np.arange(step, 1.0 + step, step)\n",
        "    win_rates = []\n",
        "\n",
        "    for red_prop in proportions:\n",
        "        num_red_edges = int(red_prop * total_edges)\n",
        "        num_green_edges = total_edges - num_red_edges\n",
        "        win_rate = PA_estimate_mafia_win_prob_red_green_red_green_proportion_experiment(\n",
        "            n=n,\n",
        "            m=m,\n",
        "            num_red_edges=num_red_edges,\n",
        "            num_green_edges=num_green_edges,\n",
        "            n_simulations=100\n",
        "        )\n",
        "\n",
        "        win_rates.append(win_rate)\n",
        "\n",
        "    plt.plot(proportions, win_rates, marker='o')\n",
        "    plt.xlabel(\"Proportion of Red Edges\")\n",
        "    plt.ylabel(\"Mafia Win Rate\")\n",
        "    plt.title(\"Mafia Win Rate vs. Proportion of Red Edges\")\n",
        "    plt.grid(True)\n",
        "    plt.show()\n",
        "    \n",
        "PA_red_green_proportion_experiment(22, 2, max_steps=100, red_bias_weight=2.0, green_bias_weight=0.5, step=0.01)"
      ]
    },
    {
      "cell_type": "markdown",
      "id": "211f744c",
      "metadata": {},
      "source": [
        "Fix proportion of red and green at 1 green,1 red, fix n = 22, change weight"
      ]
    },
    {
      "cell_type": "code",
      "execution_count": null,
      "id": "b98b2485",
      "metadata": {},
      "outputs": [],
      "source": [
        "def PA_estimate_mafia_win_prob_red_green_edge_weight_experiment(n, m, red_bias, green_bias, n_simulations=5000):\n",
        "    red_edges = 1\n",
        "    green_edges = 1\n",
        "    wins = sum(\n",
        "        PA_mafia_game_simulation_red_green(\n",
        "            n, m, red_edges, green_edges,\n",
        "            red_bias_weight=red_bias,\n",
        "            green_bias_weight=green_bias\n",
        "        )\n",
        "        for _ in range(n_simulations)\n",
        "    )\n",
        "    return wins / n_simulations\n",
        "\n",
        "def PA_edge_weight_experiment(max_steps=100, step=1):\n",
        "    # --- Sweep over RED bias weights ---\n",
        "    \n",
        "    red_bias_list = np.arange(1, 100, 1)\n",
        "    win_rates_red = []\n",
        "\n",
        "    for red_bias in red_bias_list:\n",
        "        win_rate = PA_estimate_mafia_win_prob_red_green_edge_weight_experiment(\n",
        "            n=22,\n",
        "            m=2,\n",
        "            red_bias=red_bias,\n",
        "            green_bias=0.5,\n",
        "            n_simulations=100\n",
        "        )\n",
        "        win_rates_red.append(win_rate)\n",
        "\n",
        "    plt.figure(figsize=(8, 5))\n",
        "    plt.plot(red_bias_list, win_rates_red, marker='o')\n",
        "    plt.xlabel(\"Red Bias Weight\")\n",
        "    plt.ylabel(\"Mafia Win Rate\")\n",
        "    plt.title(\"Mafia Win Rate vs. Red Bias Weight\")\n",
        "    plt.grid(True)\n",
        "    plt.tight_layout()\n",
        "    plt.show()\n",
        "  \n",
        "    green_bias_list = np.arange(0.01, 1.01, .01)\n",
        "    win_rates_green = []\n",
        "\n",
        "    for green_bias in green_bias_list:\n",
        "        win_rate = PA_estimate_mafia_win_prob_red_green_edge_weight_experiment(\n",
        "            n=22,\n",
        "            m=2,\n",
        "            red_bias=2.0,\n",
        "            green_bias=green_bias,\n",
        "            n_simulations=100\n",
        "        )\n",
        "        win_rates_green.append(win_rate)\n",
        "\n",
        "    plt.figure(figsize=(8, 5))\n",
        "    plt.plot(green_bias_list, win_rates_green, marker='o', color='green')\n",
        "    plt.xlabel(\"Green Bias Weight\")\n",
        "    plt.ylabel(\"Mafia Win Rate\")\n",
        "    plt.title(\"Mafia Win Rate vs. Green Bias Weight\")\n",
        "    plt.grid(True)\n",
        "    plt.tight_layout()\n",
        "    plt.show()\n",
        "\n",
        "    #print(green_bias_list)\n",
        "    #print(win_rates_green)\n",
        "\n",
        "PA_edge_weight_experiment()\n"
      ]
    },
    {
      "cell_type": "markdown",
      "id": "7330dbf9",
      "metadata": {},
      "source": [
        "Fix proportion of red and green at 0.5, fix n = 22, fix red weight at 2.0, green weight at 0.5, change number of edges"
      ]
    },
    {
      "cell_type": "code",
      "execution_count": null,
      "id": "d330eefc",
      "metadata": {},
      "outputs": [],
      "source": [
        "def PA_estimate_mafia_win_prob_red_green_num_edge_experiment(n, m,num_edge, n_simulations=10000):\n",
        "    red_edges = math.floor(num_edge/2)\n",
        "    green_edges = math.floor(num_edge/2)\n",
        "    wins = sum(\n",
        "        PA_mafia_game_simulation_red_green(\n",
        "            n, m, red_edges, green_edges,\n",
        "            red_bias_weight=2.0,\n",
        "            green_bias_weight=0.5\n",
        "        )\n",
        "        for _ in range(n_simulations)\n",
        "    )\n",
        "    return wins / n_simulations\n",
        "\n",
        "def PA_num_edge_experiment(max_steps=100, step=1):\n",
        "    max_edge = int(math.factorial(22)/(2*math.factorial(20)))\n",
        "    num_edge_list = np.arange(1, max_edge, step)\n",
        "    win_rates = []\n",
        "\n",
        "    for edge in num_edge_list:\n",
        "        win_rate = PA_estimate_mafia_win_prob_red_green_num_edge_experiment(\n",
        "            n=22,\n",
        "            m=2,\n",
        "            num_edge = edge,\n",
        "            n_simulations=10000\n",
        "        )\n",
        "        win_rates.append(win_rate)\n",
        "\n",
        "    plt.figure(figsize=(8, 5))\n",
        "    plt.plot(num_edge_list, win_rates, marker='o')\n",
        "    plt.xlabel(\"Num Edges\")\n",
        "    plt.ylabel(\"Mafia Win Rate\")\n",
        "    plt.title(\"Mafia Win Rate vs. Num Edges\")\n",
        "    plt.grid(True)\n",
        "    plt.tight_layout()\n",
        "    plt.show()\n",
        "\n",
        "PA_num_edge_experiment()"
      ]
    },
    {
      "cell_type": "markdown",
      "id": "57vNGJyVpYzo",
      "metadata": {
        "id": "57vNGJyVpYzo"
      },
      "source": [
        "#### For loop to run through different parameters"
      ]
    },
    {
      "cell_type": "markdown",
      "id": "be326667",
      "metadata": {
        "id": "be326667"
      },
      "source": [
        "Questions:\n",
        "\n",
        "Weight estimation: How to find the weight of red/green edges\n",
        "sensitivity analysis\n",
        "\n",
        "DE: Difference Equation to find probability?\n",
        "\n",
        "\n",
        "\n",
        "Next steps\n",
        "Final product: probability function on n, r, and g from the simulations => NETWORK MODEL\n",
        "\n",
        "think about nondimensionalization where growth size\n",
        "think of the fraction of edges would be ratio (KHOA)\n",
        "finding boundaries.\n",
        "\n",
        "even though we modeled the simulations based on our hypothesis.\n",
        "\n",
        "\n",
        "next steps:\n",
        "nondimensionalization on r and g and boundaries analysis\n",
        "t-test on p-value => significant difference when adding red/green edges?\n",
        "probability function on n, r, and g from the simulations"
      ]
    }
  ],
  "metadata": {
    "colab": {
      "provenance": []
    },
    "kernelspec": {
      "display_name": "base",
      "language": "python",
      "name": "python3"
    },
    "language_info": {
      "codemirror_mode": {
        "name": "ipython",
        "version": 3
      },
      "file_extension": ".py",
      "mimetype": "text/x-python",
      "name": "python",
      "nbconvert_exporter": "python",
      "pygments_lexer": "ipython3",
      "version": "3.10.14"
    }
  },
  "nbformat": 4,
  "nbformat_minor": 5
}
