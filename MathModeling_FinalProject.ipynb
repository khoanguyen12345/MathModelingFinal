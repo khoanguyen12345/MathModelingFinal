{
  "cells": [
    {
      "cell_type": "code",
      "execution_count": 1,
      "id": "be4b8ec9",
      "metadata": {
        "id": "be4b8ec9"
      },
      "outputs": [],
      "source": [
        "import random\n",
        "import networkx as nx\n",
        "import matplotlib.pyplot as plt\n",
        "import numpy as np\n",
        "import math\n",
        "import pandas as pd\n",
        "import seaborn as sns\n",
        "import statsmodels\n",
        "from statsmodels.othermod.betareg import BetaModel\n",
        "from statsmodels.genmod.families.links import cloglog,log,logit,probit,nbinom\n",
        "import statsmodels.formula.api as smf"
      ]
    },
    {
      "cell_type": "markdown",
      "id": "c9031999",
      "metadata": {
        "id": "c9031999"
      },
      "source": [
        "# Estimating number of mafia needed"
      ]
    },
    {
      "cell_type": "markdown",
      "id": "8235c53e",
      "metadata": {
        "id": "8235c53e"
      },
      "source": [
        "Below is edited code from https://www.alexirpan.com/2015/08/25/perfectly-intelligent-mafia.html to find the number of mafia needed in a given mafia game of n players so that the probability of winning of both parties is 50-50.\n"
      ]
    },
    {
      "cell_type": "code",
      "execution_count": 33,
      "id": "d66b64f3",
      "metadata": {
        "id": "d66b64f3"
      },
      "outputs": [],
      "source": [
        "# import random\n",
        "\n",
        "# def simulate_game(n, m):\n",
        "#     # Simulate a game with n players, m mafia\n",
        "#     while n > 2 * m:\n",
        "#         # Lynch random player\n",
        "#         if random.randint(0, n - 1) < m:\n",
        "#             m -= 1\n",
        "#         if m == 0:\n",
        "#             return False  # Town wins\n",
        "#         # Mafia kills one townsperson\n",
        "#         n -= 2\n",
        "#     return True  # Mafia wins\n",
        "\n",
        "# def get_win_odds(n, m, trials=10000):\n",
        "#     return sum(simulate_game(n, m) for _ in range(trials)) / trials\n",
        "\n",
        "# def find_5050(n):\n",
        "#     threshold = 0.02\n",
        "#     low = 1 #minimum number of mafia\n",
        "#     high = n #maximum number of mafia\n",
        "#     while low < high: #binary search\n",
        "#         mid = (low + high) // 2\n",
        "#         per = get_win_odds(n, mid)\n",
        "#         #print(f'N={n}, low={low}, high={high}, mid={mid}, win chance={per:.3f}')\n",
        "#         if abs(per - 0.5) < threshold: #if per is around 0.48-0.52% => will be considered 50 50\n",
        "#             return mid\n",
        "#         elif per < 0.5:\n",
        "#             low = mid + 1\n",
        "#         else:\n",
        "#             high = mid\n",
        "#     return low\n",
        "\n",
        "# list_of_mafia = []\n",
        "# # Run for N = 7 to 15\n",
        "# for N in range(7, 100):\n",
        "#     #print(f'\\nGroup size N = {N}')\n",
        "#     mafia_needed = find_5050(N)\n",
        "#     list_of_mafia.append((N, mafia_needed))\n",
        "\n"
      ]
    },
    {
      "cell_type": "code",
      "execution_count": 34,
      "id": "a6c9c860",
      "metadata": {
        "collapsed": true,
        "id": "a6c9c860"
      },
      "outputs": [],
      "source": [
        "# import matplotlib.pyplot as plt\n",
        "\n",
        "# # Unzip the list into two separate lists\n",
        "# n_vals, mafia_vals = zip(*list_of_mafia)\n",
        "\n",
        "# # Plot\n",
        "# plt.figure(figsize=(8, 6))\n",
        "# plt.plot(n_vals, mafia_vals, marker='o', linestyle='-')\n",
        "# plt.ylabel('Number of Mafia Needed for ~50% Win Rate')\n",
        "# plt.xlabel('Total Number of Players')\n",
        "# plt.title('Minimum Mafia Needed vs Group Size (Uniform Random Kill)')\n",
        "# plt.grid(True)\n",
        "# plt.tight_layout()\n",
        "# plt.show()\n"
      ]
    },
    {
      "cell_type": "code",
      "execution_count": 35,
      "id": "f2ae22ed",
      "metadata": {
        "id": "f2ae22ed"
      },
      "outputs": [],
      "source": [
        "def mafia_game_simulation(n, m, max_steps=100):\n",
        "    players = {i: 'Mafia' if i < m else 'Town' for i in range(n)}\n",
        "    alive = set(players.keys())\n",
        "\n",
        "    t = 0\n",
        "    while True:\n",
        "        mafia_alive = [p for p in alive if players[p] == 'Mafia']\n",
        "        town_alive = [p for p in alive if players[p] == 'Town']\n",
        "\n",
        "        if len(mafia_alive) == 0:\n",
        "            return False  # Town wins\n",
        "        if len(mafia_alive) >= len(town_alive):\n",
        "            return True  # Mafia wins\n",
        "\n",
        "        if t % 2 == 0:\n",
        "            # Night: Mafia kills Town\n",
        "            if town_alive:\n",
        "                victim = random.choice(town_alive)\n",
        "                alive.remove(victim)\n",
        "        else:\n",
        "            # Day: Random player lynched\n",
        "            victim = random.choice(list(alive))\n",
        "            alive.remove(victim)\n",
        "\n",
        "        t += 1\n",
        "        if t > max_steps:\n",
        "            break\n",
        "\n",
        "    return None\n",
        "\n",
        "def estimate_mafia_win_prob(n, m, n_simulations=50000):\n",
        "    wins = sum(mafia_game_simulation(n, m) for _ in range(n_simulations))\n",
        "    return wins / n_simulations\n",
        "\n",
        "# Iterates through all possible n's, finds the number of mafias needed for p(mafia wins) = 0.5 by simulating each n 50,000 times\n",
        "def find_5050_realistic(n, threshold=0.02):\n",
        "    low = 1\n",
        "    high = n\n",
        "    while low < high:\n",
        "        mid = (low + high) // 2\n",
        "        win_rate = estimate_mafia_win_prob(n, mid)\n",
        "        #print(f'N={n}, low={low}, high={high}, mid={mid}, mafia win rate={win_rate:.3f}')\n",
        "        if abs(win_rate - 0.5) < threshold:\n",
        "            return mid\n",
        "        elif win_rate < 0.5:\n",
        "            low = mid + 1\n",
        "        else:\n",
        "            high = mid\n",
        "    return low\n",
        "\n",
        "list_of_mafia = []\n",
        "\n",
        "# Assuming that a small group of friends is between 7 to 25 people, what is the n needed so that p(mafia wins) = 0.5\n",
        "for n in range(7, 25):\n",
        "    mafia_needed = find_5050_realistic(n)\n",
        "    list_of_mafia.append((n, mafia_needed))"
      ]
    },
    {
      "cell_type": "code",
      "execution_count": 36,
      "id": "26d09eaa",
      "metadata": {
        "colab": {
          "base_uri": "https://localhost:8080/",
          "height": 607
        },
        "collapsed": true,
        "id": "26d09eaa",
        "outputId": "be2edf72-a543-4111-a73c-094dc6de9e39"
      },
      "outputs": [
        {
          "data": {
            "image/png": "[encoded data removed]",
            "text/plain": [
              "<Figure size 800x600 with 1 Axes>"
            ]
          },
          "metadata": {},
          "output_type": "display_data"
        }
      ],
      "source": [
        "# Untuple\n",
        "n_vals, mafia_vals = zip(*list_of_mafia)\n",
        "\n",
        "# Plot results\n",
        "plt.figure(figsize=(8, 6))\n",
        "plt.plot(n_vals, mafia_vals, marker='o', linestyle='-')\n",
        "plt.ylabel('Number of Mafia Needed for ~50% Win Rate')\n",
        "plt.xlabel('Total Number of Players')\n",
        "plt.title('Minimum Mafia Needed vs Group Size')\n",
        "plt.grid(True)\n",
        "plt.tight_layout()\n",
        "plt.show()"
      ]
    },
    {
      "cell_type": "code",
      "execution_count": 37,
      "id": "4abeacd4",
      "metadata": {
        "colab": {
          "base_uri": "https://localhost:8080/"
        },
        "collapsed": true,
        "id": "4abeacd4",
        "outputId": "4e2d6e4a-f841-4927-e681-8f0dade7b299"
      },
      "outputs": [
        {
          "name": "stdout",
          "output_type": "stream",
          "text": [
            "[(7, 1), (8, 2), (9, 1), (10, 2), (11, 1), (12, 2), (13, 2), (14, 2), (15, 2), (16, 2)]\n"
          ]
        }
      ],
      "source": [
        "print(list_of_mafia[:10])"
      ]
    },
    {
      "cell_type": "markdown",
      "id": "8347830c",
      "metadata": {
        "id": "8347830c"
      },
      "source": [
        "# Base Model"
      ]
    },
    {
      "cell_type": "code",
      "execution_count": 38,
      "id": "7889df13",
      "metadata": {
        "id": "7889df13"
      },
      "outputs": [],
      "source": [
        "def mafia_game_simulation(n, m, max_steps=100):\n",
        "    # n = total players\n",
        "    # m = number of mafia\n",
        "    # max_steps = maximum number of night/day cycles to avoid infinite loop\n",
        "\n",
        "    # Initialize players: assign each player an ID and a role (mafia or townsperson)\n",
        "    players = {i: 'Mafia' if i < m else 'Town' for i in range(n)}\n",
        "    alive = set(players.keys())\n",
        "\n",
        "    t = 0  # time step\n",
        "    while True:\n",
        "        # Check win conditions\n",
        "        mafia_alive = [p for p in alive if players[p] == 'Mafia']\n",
        "        town_alive = [p for p in alive if players[p] == 'Town']\n",
        "\n",
        "        if len(mafia_alive) == 0:\n",
        "            return False  # Town wins\n",
        "        if len(mafia_alive) >= len(town_alive):\n",
        "            return True  # Mafia wins\n",
        "\n",
        "        if t % 2 == 0:\n",
        "            # Night: Mafia kills a random Town player\n",
        "            if town_alive:\n",
        "                victim = random.choice(town_alive)\n",
        "                alive.remove(victim)\n",
        "        else:\n",
        "            # Day: Random player is lynched (could be Mafia or Town)\n",
        "            victim = random.choice(list(alive))\n",
        "            alive.remove(victim)\n",
        "\n",
        "        t += 1\n",
        "        if t > max_steps:\n",
        "            break  # just in case\n",
        "\n",
        "    return None  # if max steps reached\n",
        "\n",
        "def estimate_mafia_win_prob(n, m, n_simulations=50000):\n",
        "    wins = sum(mafia_game_simulation(n, m) for _ in range(n_simulations))\n",
        "    return wins / n_simulations"
      ]
    },
    {
      "cell_type": "markdown",
      "id": "c1552d75",
      "metadata": {
        "id": "c1552d75"
      },
      "source": [
        "# Model 1\n"
      ]
    },
    {
      "cell_type": "code",
      "execution_count": 39,
      "id": "4e580f94",
      "metadata": {
        "id": "4e580f94"
      },
      "outputs": [],
      "source": [
        "num_red_edges = 5"
      ]
    },
    {
      "cell_type": "code",
      "execution_count": 40,
      "id": "18e021b6",
      "metadata": {
        "id": "18e021b6"
      },
      "outputs": [],
      "source": [
        "def mafia_game_simulation_fixed_red_updated(n, m, num_red_edges, max_steps=100, red_bias_weight=2.0):\n",
        "    players = {i: 'Mafia' if i < m else 'Town' for i in range(n)}\n",
        "    alive = set(players.keys())\n",
        "\n",
        "    # Build red edge graph\n",
        "    G = nx.Graph()\n",
        "    G.add_nodes_from(range(n))\n",
        "\n",
        "    possible_pairs = [(i, j) for i in range(n) for j in range(i+1, n)]\n",
        "    red_edges = random.sample(possible_pairs, num_red_edges)\n",
        "    G.add_edges_from(red_edges)\n",
        "\n",
        "    t = 0\n",
        "    while True:\n",
        "        mafia_alive = [p for p in alive if players[p] == 'Mafia']\n",
        "        town_alive = [p for p in alive if players[p] == 'Town']\n",
        "\n",
        "        if len(mafia_alive) == 0:\n",
        "            return False  # Town wins\n",
        "        if len(mafia_alive) >= len(town_alive):\n",
        "            return True  # Mafia wins\n",
        "\n",
        "        if t % 2 == 0:\n",
        "            # Night: Mafia kills biased Town\n",
        "            if town_alive:\n",
        "                town_list = list(town_alive)\n",
        "                # Calculate night kill weights\n",
        "                night_weights = []\n",
        "                for town in town_list:\n",
        "                    has_enemy = any((G.has_edge(town, mafia) and mafia in alive) for mafia in mafia_alive)\n",
        "                    weight = red_bias_weight if has_enemy else 1.0\n",
        "                    night_weights.append(weight)\n",
        "\n",
        "                # Normalize weights and pick\n",
        "                total_weight = sum(night_weights)\n",
        "                night_probs = [w / total_weight for w in night_weights]\n",
        "\n",
        "                victim = random.choices(town_list, weights=night_probs, k=1)[0]\n",
        "                alive.remove(victim)\n",
        "        else:\n",
        "            # Day: Biased lynch based on red edges\n",
        "            alive_list = list(alive)\n",
        "\n",
        "            # Calculate lynch weights\n",
        "            lynch_weights = []\n",
        "            for node in alive_list:\n",
        "                neighbors = list(G.neighbors(node))\n",
        "                has_enemy = any(neighbor in alive for neighbor in neighbors)\n",
        "                weight = red_bias_weight if has_enemy else 1.0\n",
        "                lynch_weights.append(weight)\n",
        "\n",
        "            total_weight = sum(lynch_weights)\n",
        "            lynch_probs = [w / total_weight for w in lynch_weights]\n",
        "\n",
        "            victim = random.choices(alive_list, weights=lynch_probs, k=1)[0]\n",
        "            alive.remove(victim)\n",
        "\n",
        "        t += 1\n",
        "        if t > max_steps:\n",
        "            break\n",
        "\n",
        "    return None\n",
        "\n",
        "def estimate_mafia_win_prob_fixed_red_updated(n, m, num_red_edges, n_simulations=50000):\n",
        "    wins = sum(mafia_game_simulation_fixed_red_updated(n, m, num_red_edges) for _ in range(n_simulations))\n",
        "    return wins / n_simulations"
      ]
    },
    {
      "cell_type": "markdown",
      "id": "7126492d",
      "metadata": {
        "id": "7126492d"
      },
      "source": [
        "# Model 2"
      ]
    },
    {
      "cell_type": "code",
      "execution_count": 41,
      "id": "5b58e2b2",
      "metadata": {
        "id": "5b58e2b2"
      },
      "outputs": [],
      "source": [
        "num_green_edges = 5"
      ]
    },
    {
      "cell_type": "code",
      "execution_count": 42,
      "id": "70151f68",
      "metadata": {
        "id": "70151f68"
      },
      "outputs": [],
      "source": [
        "def mafia_game_simulation_fixed_green(n, m, num_green_edges, max_steps=100, green_bias_weight=0.5):\n",
        "    players = {i: 'Mafia' if i < m else 'Town' for i in range(n)}\n",
        "    alive = set(players.keys())\n",
        "\n",
        "    # Build green edge graph\n",
        "    G = nx.Graph()\n",
        "    G.add_nodes_from(range(n))\n",
        "\n",
        "    possible_pairs = [(i, j) for i in range(n) for j in range(i+1, n)]\n",
        "    green_edges = random.sample(possible_pairs, num_green_edges)\n",
        "    G.add_edges_from(green_edges)\n",
        "\n",
        "    t = 0\n",
        "    while True:\n",
        "        mafia_alive = [p for p in alive if players[p] == 'Mafia']\n",
        "        town_alive = [p for p in alive if players[p] == 'Town']\n",
        "\n",
        "        if len(mafia_alive) == 0:\n",
        "            return False  # Town wins\n",
        "        if len(mafia_alive) >= len(town_alive):\n",
        "            return True  # Mafia wins\n",
        "\n",
        "        if t % 2 == 0:\n",
        "            # Night: Mafia kills Town (less likely to kill friends)\n",
        "            if town_alive:\n",
        "                town_list = list(town_alive)\n",
        "                night_weights = []\n",
        "                for town in town_list:\n",
        "                    has_friend = any((G.has_edge(town, mafia) and mafia in alive) for mafia in mafia_alive)\n",
        "                    weight = green_bias_weight if has_friend else 1.0\n",
        "                    night_weights.append(weight)\n",
        "\n",
        "                total_weight = sum(night_weights)\n",
        "                night_probs = [w / total_weight for w in night_weights]\n",
        "\n",
        "                victim = random.choices(town_list, weights=night_probs, k=1)[0]\n",
        "                alive.remove(victim)\n",
        "        else:\n",
        "            # Day: Biased lynch - less likely to lynch friends\n",
        "            alive_list = list(alive)\n",
        "\n",
        "            lynch_weights = []\n",
        "            for node in alive_list:\n",
        "                has_friend = any((G.has_edge(node, neighbor) and neighbor in alive) for neighbor in G.neighbors(node))\n",
        "                weight = green_bias_weight if has_friend else 1.0\n",
        "                lynch_weights.append(weight)\n",
        "\n",
        "            total_weight = sum(lynch_weights)\n",
        "            lynch_probs = [w / total_weight for w in lynch_weights]\n",
        "\n",
        "            victim = random.choices(alive_list, weights=lynch_probs, k=1)[0]\n",
        "            alive.remove(victim)\n",
        "\n",
        "        t += 1\n",
        "        if t > max_steps:\n",
        "            break\n",
        "\n",
        "    return None\n",
        "\n",
        "def estimate_mafia_win_prob_fixed_green(n, m, num_green_edges, n_simulations=50000):\n",
        "    wins = sum(mafia_game_simulation_fixed_green(n, m, num_green_edges) for _ in range(n_simulations))\n",
        "    return wins / n_simulations"
      ]
    },
    {
      "cell_type": "markdown",
      "id": "2e28b84c",
      "metadata": {
        "id": "2e28b84c"
      },
      "source": [
        "# Ultimate model"
      ]
    },
    {
      "cell_type": "code",
      "execution_count": 2,
      "id": "7d34908a",
      "metadata": {
        "id": "7d34908a"
      },
      "outputs": [],
      "source": [
        "def mafia_game_simulation_red_green(n, m, num_red_edges, num_green_edges, max_steps=100, red_bias_weight=2.0,green_bias_weight=0.5):\n",
        "    players = {i: 'Mafia' if i < m else 'Town' for i in range(n)}\n",
        "    alive = set(players.keys())\n",
        "\n",
        "    # Build red and green edge graphs\n",
        "    red_G = nx.Graph()\n",
        "    green_G = nx.Graph()\n",
        "    red_G.add_nodes_from(range(n))\n",
        "    green_G.add_nodes_from(range(n))\n",
        "\n",
        "    # Create possible unique pairs\n",
        "    possible_pairs = [(i, j) for i in range(n) for j in range(i+1, n)]\n",
        "    sampled_pairs = random.sample(possible_pairs, num_red_edges + num_green_edges)\n",
        "\n",
        "    red_edges = sampled_pairs[:num_red_edges]\n",
        "    green_edges = sampled_pairs[num_red_edges:]\n",
        "\n",
        "    red_G.add_edges_from(red_edges)\n",
        "    green_G.add_edges_from(green_edges)\n",
        "    \n",
        "    #print(\"Red edges:\" ,red_edges)\n",
        "    #print(\"Green edges:\" ,green_edges)\n",
        "\n",
        "    t = 0\n",
        "    while True:\n",
        "        mafia_alive = [p for p in alive if players[p] == 'Mafia']\n",
        "        town_alive = [p for p in alive if players[p] == 'Town']\n",
        "\n",
        "        if len(mafia_alive) == 0:\n",
        "            return False  # Town wins\n",
        "        if len(mafia_alive) >= len(town_alive):\n",
        "            return True  # Mafia wins\n",
        "\n",
        "        if t % 2 == 0:\n",
        "            # Night: Mafia kills Town\n",
        "            if town_alive:\n",
        "                town_list = list(town_alive)\n",
        "                night_weights = []\n",
        "                for town in town_list:\n",
        "                    # Check red and green connections with alive Mafia\n",
        "                    num_enemy = sum((red_G.has_edge(town, mafia) and mafia in alive) for mafia in mafia_alive)\n",
        "                    num_friend = sum((green_G.has_edge(town, mafia) and mafia in alive) for mafia in mafia_alive)\n",
        "\n",
        "                    weight = 1.0\n",
        "                    #weight of getting killed is proportional to the number of enemies and vice versa for friends\n",
        "                    if num_enemy > 0:\n",
        "                        weight = (weight) * red_bias_weight**num_enemy\n",
        "                    if num_friend > 0:\n",
        "                        weight = (weight) * (green_bias_weight**num_friend)\n",
        "                    night_weights.append(weight)\n",
        "                total_weight = sum(night_weights)\n",
        "                night_probs = [w / total_weight for w in night_weights]\n",
        "                victim = random.choices(town_list, weights=night_probs, k=1)[0]\n",
        "                alive.remove(victim)\n",
        "        else:\n",
        "            # Day: Lynch based on red and green biases\n",
        "            alive_list = list(alive)\n",
        "            lynch_weights = []\n",
        "            node_friend = []\n",
        "            node_enemy = []\n",
        "            for node in alive_list:\n",
        "                num_enemy = sum((red_G.has_edge(node, neighbor) and neighbor in alive) for neighbor in red_G.neighbors(node))\n",
        "                num_friend = sum((green_G.has_edge(node, neighbor) and neighbor in alive) for neighbor in green_G.neighbors(node))\n",
        "                weight = 1.0\n",
        "                    #weight of getting lynched is proportional to the number of enemies and vice versa for friends\n",
        "                if num_enemy > 0:\n",
        "                    weight = (weight) * red_bias_weight**num_enemy\n",
        "                if num_friend > 0:\n",
        "                    weight = (weight) * (green_bias_weight**num_friend)\n",
        "                lynch_weights.append(weight)\n",
        "                node_friend.append(num_friend)\n",
        "                node_enemy.append(num_enemy)\n",
        "            total_weight = sum(lynch_weights)\n",
        "            #print(\"Lynch weight: \",lynch_weights)\n",
        "            lynch_probs = [w / total_weight for w in lynch_weights]\n",
        "            victim = random.choices(alive_list, weights=lynch_probs, k=1)[0]\n",
        "            alive.remove(victim)\n",
        "            #print(\"Node Friend\", node_friend)\n",
        "            #print(\"Node Enemy\", node_enemy)\n",
        "        t += 1\n",
        "        if t > max_steps:\n",
        "            break\n",
        "    return None\n",
        "\n",
        "def estimate_mafia_win_prob_red_green(n, m, num_red_edges, num_green_edges, n_simulations=50000):\n",
        "    wins = sum(mafia_game_simulation_red_green(n, m, num_red_edges, num_green_edges) for _ in range(n_simulations))\n",
        "    return wins / n_simulations\n",
        "\n"
      ]
    },
    {
      "cell_type": "code",
      "execution_count": 44,
      "id": "ibvFkIKsKOao",
      "metadata": {
        "colab": {
          "base_uri": "https://localhost:8080/"
        },
        "id": "ibvFkIKsKOao",
        "outputId": "4af28eae-ebff-4c80-c22f-5cc77088b276"
      },
      "outputs": [],
      "source": [
        "#estimate_mafia_win_prob_red_green(22,2,3,15,1)"
      ]
    },
    {
      "cell_type": "code",
      "execution_count": 143,
      "id": "bd34cb32",
      "metadata": {
        "collapsed": true,
        "id": "bd34cb32"
      },
      "outputs": [],
      "source": [
        "\n",
        "def mafia_game_simulation_red_green_plot(n, m, num_red_edges, num_green_edges, max_steps=100, red_bias_weight=2.0, green_bias_weight=0.5):\n",
        "    players = {i: 'Mafia' if i < m else 'Town' for i in range(n)}\n",
        "    alive = set(players.keys())\n",
        "\n",
        "    # Build red and green edge graphs\n",
        "    red_G = nx.Graph()\n",
        "    green_G = nx.Graph()\n",
        "    red_G.add_nodes_from(range(n))\n",
        "    green_G.add_nodes_from(range(n))\n",
        "\n",
        "    possible_pairs = [(i, j) for i in range(n) for j in range(i+1, n)]\n",
        "    sampled_pairs = random.sample(possible_pairs, num_red_edges + num_green_edges)\n",
        "\n",
        "    red_edges = sampled_pairs[:num_red_edges]\n",
        "    green_edges = sampled_pairs[num_red_edges:]\n",
        "\n",
        "    red_G.add_edges_from(red_edges)\n",
        "    green_G.add_edges_from(green_edges)\n",
        "\n",
        "    # Combined graph for visualization\n",
        "    full_G = nx.Graph()\n",
        "    full_G.add_nodes_from(range(n))\n",
        "    full_G.add_edges_from(red_edges)\n",
        "    full_G.add_edges_from(green_edges)\n",
        "\n",
        "    # Fixed layout for consistent position\n",
        "    pos = nx.spring_layout(full_G, seed=42)\n",
        "\n",
        "    t = 0\n",
        "    while True:\n",
        "        mafia_alive = [p for p in alive if players[p] == 'Mafia']\n",
        "        town_alive = [p for p in alive if players[p] == 'Town']\n",
        "\n",
        "        if len(mafia_alive) == 0:\n",
        "            print(f'\\nGame ended at t={t}: Town wins!\\n')\n",
        "            break\n",
        "        if len(mafia_alive) >= len(town_alive):\n",
        "            print(f'\\nGame ended at t={t}: Mafia wins!\\n')\n",
        "            break\n",
        "\n",
        "        plot_current_state(full_G, alive, players, red_edges, green_edges, pos, t)\n",
        "\n",
        "        if t % 2 == 0:\n",
        "            # Mafia's move (even t)\n",
        "            if town_alive:\n",
        "                town_list = list(town_alive)\n",
        "                night_weights = []\n",
        "                for town in town_list:\n",
        "                    has_enemy = any((red_G.has_edge(town, mafia) and mafia in alive) for mafia in mafia_alive)\n",
        "                    has_friend = any((green_G.has_edge(town, mafia) and mafia in alive) for mafia in mafia_alive)\n",
        "                    weight = 1.0\n",
        "                    if has_enemy:\n",
        "                        weight *= red_bias_weight\n",
        "                    if has_friend:\n",
        "                        weight *= green_bias_weight\n",
        "                    night_weights.append(weight)\n",
        "\n",
        "                total_weight = sum(night_weights)\n",
        "                night_probs = [w / total_weight for w in night_weights]\n",
        "\n",
        "                victim = random.choices(town_list, weights=night_probs, k=1)[0]\n",
        "                alive.remove(victim)\n",
        "                print(f'Night {t//2 + 1}: Mafia killed player {victim}')\n",
        "        else:\n",
        "            # Town's move (odd t)\n",
        "            alive_list = list(alive)\n",
        "            lynch_weights = []\n",
        "            for node in alive_list:\n",
        "                has_enemy = any((red_G.has_edge(node, neighbor) and neighbor in alive) for neighbor in red_G.neighbors(node))\n",
        "                has_friend = any((green_G.has_edge(node, neighbor) and neighbor in alive) for neighbor in green_G.neighbors(node))\n",
        "                weight = 1.0\n",
        "                if has_enemy:\n",
        "                    weight *= red_bias_weight\n",
        "                if has_friend:\n",
        "                    weight *= green_bias_weight\n",
        "                lynch_weights.append(weight)\n",
        "\n",
        "            total_weight = sum(lynch_weights)\n",
        "            lynch_probs = [w / total_weight for w in lynch_weights]\n",
        "\n",
        "            victim = random.choices(alive_list, weights=lynch_probs, k=1)[0]\n",
        "            alive.remove(victim)\n",
        "            print(f'Day {t//2 + 1}: Town lynched player {victim}')\n",
        "\n",
        "        t += 1\n",
        "\n",
        "        if t > max_steps:\n",
        "            print(f'\\nGame ended at t={t}: Max steps reached\\n')\n",
        "            break\n",
        "\n",
        "    return None\n",
        "\n",
        "def plot_current_state(G, alive, players, red_edges, green_edges, pos, t):\n",
        "    plt.figure(figsize=(8, 6))\n",
        "\n",
        "    node_colors = []\n",
        "    for node in G.nodes():\n",
        "        if node in alive:\n",
        "            if players[node] == 'Mafia':\n",
        "                node_colors.append('red')\n",
        "            else:\n",
        "                node_colors.append('blue')\n",
        "        else:\n",
        "            node_colors.append('gray')  # Dead players are gray\n",
        "\n",
        "    # Draw green and red edges between alive players only\n",
        "    green_edges_alive = [(u, v) for u, v in green_edges if u in alive and v in alive]\n",
        "    red_edges_alive = [(u, v) for u, v in red_edges if u in alive and v in alive]\n",
        "\n",
        "    nx.draw_networkx_edges(G, pos, edgelist=green_edges_alive, edge_color='green', style='solid')\n",
        "    nx.draw_networkx_edges(G, pos, edgelist=red_edges_alive, edge_color='red', style='dashed')\n",
        "\n",
        "    nx.draw_networkx_nodes(G, pos, node_color=node_colors, node_size=500)\n",
        "    sorted_nodes = sorted(G.nodes())\n",
        "    labels = {node: str(node) for node in sorted_nodes}\n",
        "    nx.draw_networkx_labels(G, pos, labels=labels, font_color='white')\n",
        "\n",
        "    # ==== NEW part: Better title ====\n",
        "    if t == 0:\n",
        "        phase = \"Night 1\"\n",
        "    elif t % 2 == 0:\n",
        "        phase = f\"Night {t//2 + 1}\"  # Even t (after t=0) = night\n",
        "    else:\n",
        "        phase = f\"Day {(t+1)//2}\"  # Odd t = day\n",
        "\n",
        "    plt.title(f'Time Step {t} — {phase}', fontsize=16)\n",
        "    plt.axis('off')\n",
        "    plt.show()\n"
      ]
    },
    {
      "cell_type": "code",
      "execution_count": null,
      "id": "IZMIQ_t9LUT0",
      "metadata": {
        "colab": {
          "base_uri": "https://localhost:8080/",
          "height": 1000
        },
        "id": "IZMIQ_t9LUT0",
        "outputId": "e2dd2de9-14dc-4b4e-f4f6-273e762759d2"
      },
      "outputs": [],
      "source": [
        "mafia_game_simulation_red_green_plot(22,2,1,1)"
      ]
    },
    {
      "cell_type": "markdown",
      "id": "533c3177",
      "metadata": {
        "id": "533c3177"
      },
      "source": [
        "# Compare"
      ]
    },
    {
      "cell_type": "code",
      "execution_count": 47,
      "id": "d104cff7",
      "metadata": {
        "id": "d104cff7"
      },
      "outputs": [],
      "source": [
        "#Initial Condition\n",
        "n = 22  # total players\n",
        "m = 2 # number of mafia\n",
        "n_simulations = 50000\n",
        "\n",
        "num_red_edges = 30\n",
        "num_green_edges = 30"
      ]
    },
    {
      "cell_type": "code",
      "execution_count": 48,
      "id": "4fe5810f",
      "metadata": {
        "colab": {
          "base_uri": "https://localhost:8080/"
        },
        "collapsed": true,
        "id": "4fe5810f",
        "outputId": "fd790152-2bb0-44b4-908a-b116f351f476"
      },
      "outputs": [],
      "source": [
        "# win_rate = estimate_mafia_win_prob(n, m, n_simulations)\n",
        "# print(f'Estimated Mafia win rate with {m} mafia in {n} players and no relationships: {win_rate:.3f}')"
      ]
    },
    {
      "cell_type": "code",
      "execution_count": 49,
      "id": "2d155ffd",
      "metadata": {
        "colab": {
          "base_uri": "https://localhost:8080/"
        },
        "id": "2d155ffd",
        "outputId": "9d9d0808-520b-4e16-fe6b-0473604bc572"
      },
      "outputs": [],
      "source": [
        "# win_rate_fixed_red_updated = estimate_mafia_win_prob_fixed_red_updated(n, m, num_red_edges, n_simulations)\n",
        "# print(f'Estimated Mafia win rate with {num_red_edges} red edges (n={n}, m={m}): {win_rate_fixed_red_updated:.3f}')"
      ]
    },
    {
      "cell_type": "code",
      "execution_count": 50,
      "id": "9de23494",
      "metadata": {
        "colab": {
          "base_uri": "https://localhost:8080/"
        },
        "id": "9de23494",
        "outputId": "18807895-38d4-419d-c4d6-e5b457ad3ff9"
      },
      "outputs": [],
      "source": [
        "# win_rate_fixed_green = estimate_mafia_win_prob_fixed_green(n, m, num_green_edges, n_simulations)\n",
        "# print(f'Estimated Mafia win rate with {num_green_edges} green edges (n={n}, m={m}): {win_rate_fixed_green:.3f}')"
      ]
    },
    {
      "cell_type": "code",
      "execution_count": 51,
      "id": "d9aee711",
      "metadata": {
        "colab": {
          "base_uri": "https://localhost:8080/"
        },
        "id": "d9aee711",
        "outputId": "40ec10eb-d371-4820-ba1c-c730dc9d6884"
      },
      "outputs": [],
      "source": [
        "# win_rate_red_green = estimate_mafia_win_prob_red_green(n, m, num_red_edges, num_green_edges, n_simulations)\n",
        "# print(f'Estimated Mafia win rate with {num_red_edges} red edges and {num_green_edges} green edges (n={n}, m={m}): {win_rate_red_green:.3f}')"
      ]
    },
    {
      "cell_type": "markdown",
      "id": "PbfW1C4VnyUp",
      "metadata": {
        "id": "PbfW1C4VnyUp"
      },
      "source": [
        "# Non-Dimensionalization"
      ]
    },
    {
      "cell_type": "markdown",
      "id": "plfz-_46udwY",
      "metadata": {
        "id": "plfz-_46udwY"
      },
      "source": [
        "Assuming complete graph, change proportion of Red and Green edge. Fix n = 22, m = 2"
      ]
    },
    {
      "cell_type": "code",
      "execution_count": 3,
      "id": "x1y2LrTzoUXf",
      "metadata": {
        "colab": {
          "base_uri": "https://localhost:8080/",
          "height": 336
        },
        "collapsed": true,
        "id": "x1y2LrTzoUXf",
        "outputId": "97f17af9-37ec-47ba-ad6b-4ac4c9a4ccbb"
      },
      "outputs": [],
      "source": [
        "def estimate_mafia_win_prob_red_green_red_green_proportion_experiment(\n",
        "    n, m, num_red_edges, num_green_edges, n_simulations=50_000,\n",
        "    red_bias_weight=2.0, green_bias_weight=0.5\n",
        "):\n",
        "    # collect 0/1 outcomes\n",
        "    outcomes = np.array([\n",
        "        mafia_game_simulation_red_green(\n",
        "            n, m,\n",
        "            num_red_edges, num_green_edges,\n",
        "            red_bias_weight=red_bias_weight,\n",
        "            green_bias_weight=green_bias_weight\n",
        "        )\n",
        "        for _ in range(n_simulations)\n",
        "    ])\n",
        "    p = outcomes.mean()\n",
        "    se = np.sqrt(p * (1 - p) / n_simulations)\n",
        "    return p, se\n",
        "\n",
        "def red_green_proportion_experiment(\n",
        "    n, m,\n",
        "    step=0.01,\n",
        "    red_bias_weight=2.0, green_bias_weight=0.5,\n",
        "    n_simulations=20000\n",
        "):\n",
        "    total_edges = n * (n - 1) // 2\n",
        "    proportions = np.arange(step, 1.0 + step, step)\n",
        "\n",
        "    win_rates = []\n",
        "    error_bars = []\n",
        "\n",
        "    for red_prop in proportions:\n",
        "        num_red_edges = int(red_prop * total_edges)\n",
        "        num_green_edges = total_edges - num_red_edges\n",
        "\n",
        "        p, se = estimate_mafia_win_prob_red_green_red_green_proportion_experiment(\n",
        "            n=n,\n",
        "            m=m,\n",
        "            num_red_edges=num_red_edges,\n",
        "            num_green_edges=num_green_edges,\n",
        "            n_simulations=n_simulations,\n",
        "            red_bias_weight=red_bias_weight,\n",
        "            green_bias_weight=green_bias_weight\n",
        "        )\n",
        "        win_rates.append(p)\n",
        "        error_bars.append(se)\n",
        "    win_prop_dict  = {\n",
        "        \"red proportion\" : proportions.tolist(),\n",
        "        \"win rate\":  win_rates,\n",
        "        \"error\": error_bars\n",
        "    }\n",
        "    return win_prop_dict\n",
        "\n",
        "\n",
        "\n",
        "'''\n",
        "    plt.figure(figsize=(8, 5))\n",
        "    plt.errorbar(\n",
        "        proportions,\n",
        "        win_rates,\n",
        "        yerr=error_bars,\n",
        "        fmt='o-',\n",
        "        capsize=4,\n",
        "        label='Win rate ±1 SE'\n",
        "    )\n",
        "\n",
        "    plt.xlabel(\"Proportion of Red Edges\")\n",
        "    plt.ylabel(\"Mafia Win Rate\")\n",
        "    plt.title(\"Mafia Win Rate vs. Proportion of Red Edges (with SE error bars)\")\n",
        "    plt.grid(True)\n",
        "    plt.legend()\n",
        "    plt.tight_layout()\n",
        "    plt.show()\n",
        "'''\n",
        "# Run the experiment\n",
        "win_prop = red_green_proportion_experiment(\n",
        "    n=22,\n",
        "    m=2,\n",
        "    step=0.01,\n",
        "    red_bias_weight=2.0,\n",
        "    green_bias_weight=0.5,\n",
        "    n_simulations=50000\n",
        ")"
      ]
    },
    {
      "cell_type": "code",
      "execution_count": null,
      "id": "2a5b8e26",
      "metadata": {},
      "outputs": [],
      "source": [
        "win_prop_df = pd.DataFrame(win_prop)\n",
        "#win_prop_df.to_csv('win_prop_erdos_renyi_data.csv', index=False)"
      ]
    },
    {
      "cell_type": "markdown",
      "id": "z8oug99symfO",
      "metadata": {
        "id": "z8oug99symfO"
      },
      "source": [
        "Fix proportion of red and green at 0.5, fix n = 22, fix red weight at 2.0, green weight at 0.5, change number of edges"
      ]
    },
    {
      "cell_type": "code",
      "execution_count": 4,
      "id": "8UhO-bWPzyQY",
      "metadata": {
        "id": "8UhO-bWPzyQY"
      },
      "outputs": [],
      "source": [
        "def estimate_mafia_win_prob_red_green_num_edge_experiment(\n",
        "    n, m, num_edge, n_simulations=50000,\n",
        "    red_bias_weight=2.0, green_bias_weight=0.5\n",
        "):\n",
        "    # split the edges (floor so you never exceed num_edge)\n",
        "    red_edges = math.floor(num_edge / 2)\n",
        "    green_edges = math.floor(num_edge / 2)\n",
        "\n",
        "    # run simulations and collect 0/1 outcomes\n",
        "    outcomes = np.array([\n",
        "        mafia_game_simulation_red_green(\n",
        "            n, m, red_edges, green_edges,\n",
        "            red_bias_weight=red_bias_weight,\n",
        "            green_bias_weight=green_bias_weight\n",
        "        )\n",
        "        for _ in range(n_simulations)\n",
        "    ])\n",
        "    p = outcomes.mean()\n",
        "    # standard error of a Bernoulli(p) estimate: sqrt(p*(1-p)/N)\n",
        "    se = np.sqrt(p * (1 - p) / n_simulations)\n",
        "    return p, se\n",
        "\n",
        "def num_edge_experiment(\n",
        "    n=22,\n",
        "    m=2,\n",
        "    step=1,\n",
        "    n_simulations=50000,\n",
        "    red_bias_weight=2.0,\n",
        "    green_bias_weight=0.5,\n",
        "):\n",
        "    # maximum possible edges in a complete graph of n nodes\n",
        "    max_edge = n * (n - 1) // 2\n",
        "    num_edge_list = np.arange(1, max_edge + 1, step)\n",
        "\n",
        "    win_rates = []\n",
        "    error_bars = []\n",
        "\n",
        "    for edge in num_edge_list:\n",
        "        p, se = estimate_mafia_win_prob_red_green_num_edge_experiment(\n",
        "            n=n,\n",
        "            m=m,\n",
        "            num_edge=edge,\n",
        "            n_simulations=n_simulations,\n",
        "            red_bias_weight=red_bias_weight,\n",
        "            green_bias_weight=green_bias_weight\n",
        "        )\n",
        "        win_rates.append(p)\n",
        "        error_bars.append(se)\n",
        "\n",
        "    results = {\n",
        "        \"num_edge\": num_edge_list.tolist(),\n",
        "        \"win_rate\": win_rates,\n",
        "        \"error\": error_bars\n",
        "    }\n",
        "    return results\n",
        "\n",
        "win_edge = num_edge_experiment(n_simulations=50000)"
      ]
    },
    {
      "cell_type": "code",
      "execution_count": null,
      "id": "12e8aeeb",
      "metadata": {},
      "outputs": [],
      "source": [
        "win_edge_df = pd.DataFrame(win_edge)\n",
        "#win_edge_df.to_csv('win_edge_erdos_renyi_data.csv', index=False)"
      ]
    },
    {
      "cell_type": "markdown",
      "id": "2b8b21ad",
      "metadata": {},
      "source": [
        "Fix proportion of red and green at 1 green,1 red, fix n = 22, change weight"
      ]
    },
    {
      "cell_type": "code",
      "execution_count": 7,
      "id": "f9e399ae",
      "metadata": {},
      "outputs": [],
      "source": [
        "import numpy as np\n",
        "import math\n",
        "\n",
        "def estimate_mafia_win_prob_red_green_edge_weight_experiment(\n",
        "    n, m, red_bias, green_bias, n_simulations=50_000,\n",
        "    red_edges=1, green_edges=1\n",
        "):\n",
        "    \"\"\"\n",
        "    Runs `n_simulations` of the Mafia game with fixed #edges but varying\n",
        "    red/green bias weights. Returns (win_rate, standard_error).\n",
        "    \"\"\"\n",
        "    outcomes = np.array([\n",
        "        mafia_game_simulation_red_green(\n",
        "            n, m, red_edges, green_edges,\n",
        "            red_bias_weight=red_bias,\n",
        "            green_bias_weight=green_bias\n",
        "        )\n",
        "        for _ in range(n_simulations)\n",
        "    ])\n",
        "    p  = outcomes.mean()\n",
        "    se = np.sqrt(p * (1 - p) / n_simulations)\n",
        "    return p, se\n",
        "\n",
        "def edge_weight_experiment(\n",
        "    n=22,\n",
        "    m=2,\n",
        "    red_bias_start=1,\n",
        "    red_bias_end=100,\n",
        "    red_bias_step=1,\n",
        "    green_bias_start=0.01,\n",
        "    green_bias_end=1.01,\n",
        "    green_bias_step=0.01,\n",
        "    n_simulations=50_000\n",
        "):\n",
        "    # Sweep RED bias\n",
        "    red_bias_list = np.arange(red_bias_start, red_bias_end, red_bias_step)\n",
        "    win_red, err_red = [], []\n",
        "    for rb in red_bias_list:\n",
        "        p, se = estimate_mafia_win_prob_red_green_edge_weight_experiment(\n",
        "            n, m, red_bias=rb, green_bias=0.5,\n",
        "            n_simulations=n_simulations\n",
        "        )\n",
        "        win_red.append(p)\n",
        "        err_red.append(se)\n",
        "\n",
        "    # Sweep GREEN bias\n",
        "    green_bias_list = np.arange(\n",
        "        green_bias_start, green_bias_end, green_bias_step\n",
        "    )\n",
        "    win_green, err_green = [], []\n",
        "    for gb in green_bias_list:\n",
        "        p, se = estimate_mafia_win_prob_red_green_edge_weight_experiment(\n",
        "            n, m, red_bias=2.0, green_bias=gb,\n",
        "            n_simulations=n_simulations\n",
        "        )\n",
        "        win_green.append(p)\n",
        "        err_green.append(se)\n",
        "\n",
        "    return {\n",
        "        \"red_bias\":       red_bias_list.tolist(),\n",
        "        \"win_rate_red\":   win_red,\n",
        "        \"error_red\":      err_red,\n",
        "        \"green_bias\":     green_bias_list.tolist(),\n",
        "        \"win_rate_green\": win_green,\n",
        "        \"error_green\":    err_green,\n",
        "    }\n",
        "\n",
        "win_weight = edge_weight_experiment()\n"
      ]
    },
    {
      "cell_type": "code",
      "execution_count": null,
      "id": "36a88542",
      "metadata": {},
      "outputs": [],
      "source": [
        "win_weight_red = {\n",
        "    \"red_bias\": win_weight[\"red_bias\"],\n",
        "    \"win_rate_red\": win_weight[\"win_rate_red\"],\n",
        "    \"error_red\": win_weight[\"error_red\"]\n",
        "}\n",
        "\n",
        "win_weight_green = {\n",
        "    \"green_bias\": win_weight[\"green_bias\"],\n",
        "    \"win_rate_green\": win_weight[\"win_rate_green\"],\n",
        "    \"error_green\": win_weight[\"error_green\"]\n",
        "}\n",
        "\n",
        "win_weight_red_df = pd.DataFrame(win_weight_red)\n",
        "#win_weight_red_df.to_csv('win_weight_red_erdos_renyi_data.csv', index=False)\n",
        "\n",
        "win_weight_green_df = pd.DataFrame(win_weight_green)\n",
        "#win_weight_green_df.to_csv('win_weight_green_erdos_renyi_data.csv', index=False)"
      ]
    },
    {
      "cell_type": "markdown",
      "id": "6fc4e0c8",
      "metadata": {},
      "source": [
        "### Try Heatmap"
      ]
    },
    {
      "cell_type": "code",
      "execution_count": 32,
      "id": "4ab3438b",
      "metadata": {},
      "outputs": [],
      "source": [
        "n = 22\n",
        "m = 2\n",
        "n_simulations = 50000\n",
        "max_edges = n * (n-1) // 2 \n",
        "edge_steps = np.linspace(0, max_edges, 46, dtype=int)\n",
        "ratio_steps = np.linspace(0, 1, 21)  \n",
        "\n",
        "# Storage\n",
        "results = []\n",
        "\n",
        "for num_edges in edge_steps:\n",
        "    for red_ratio in ratio_steps:\n",
        "        num_red_edges = int(red_ratio * num_edges)\n",
        "        num_green_edges = num_edges - num_red_edges\n",
        "\n",
        "        win_rate = estimate_mafia_win_prob_red_green(\n",
        "            n=n,\n",
        "            m=m,\n",
        "            num_red_edges=num_red_edges,\n",
        "            num_green_edges=num_green_edges,\n",
        "            n_simulations=n_simulations\n",
        "        )\n",
        "\n",
        "        results.append({\n",
        "            'num_edges': num_edges,\n",
        "            'red_ratio': red_ratio,\n",
        "            'mafia_win_rate': win_rate\n",
        "        })\n",
        "\n",
        "# # Convert to DataFrame\n",
        "df = pd.DataFrame(results)\n"
      ]
    },
    {
      "cell_type": "code",
      "execution_count": 34,
      "id": "f80b737e",
      "metadata": {},
      "outputs": [],
      "source": [
        "# Save it\n",
        "df.to_csv('mafia_win_rate_heatmap_data.csv', index=False)"
      ]
    },
    {
      "cell_type": "code",
      "execution_count": null,
      "id": "d2e34ac6",
      "metadata": {},
      "outputs": [
        {
          "data": {
            "image/png": "[encoded data removed]",
            "text/plain": [
              "<Figure size 1400x800 with 2 Axes>"
            ]
          },
          "metadata": {},
          "output_type": "display_data"
        }
      ],
      "source": [
        "# Pivot for heatmap\n",
        "df = pd.read_csv('mafia_win_rate_heatmap_data.csv')\n",
        "df['red_ratio'] = df['red_ratio'].round(2)\n",
        "df_sorted = df.sort_values(by='red_ratio', ascending=True)\n",
        "heatmap_data = df_sorted.pivot(index='red_ratio', columns='num_edges', values='mafia_win_rate')\n",
        "\n",
        "# Plot heatmap\n",
        "plt.figure(figsize=(14, 8))\n",
        "sns.heatmap(\n",
        "    heatmap_data,\n",
        "    cmap='coolwarm',\n",
        "    vmin=0,\n",
        "    vmax=1,\n",
        "    cbar_kws={'label': 'Mafia Win Rate'}\n",
        ")\n",
        "plt.title('Mafia Win Rate Heatmap: Number of Edges vs Red Edge Ratio')\n",
        "plt.xlabel('Total Number of Edges')\n",
        "plt.ylabel('Red Edge Ratio (0 = all green, 1 = all red)')\n",
        "plt.gca().invert_yaxis() \n",
        "plt.tight_layout()\n",
        "plt.show()\n"
      ]
    },
    {
      "cell_type": "markdown",
      "id": "413cdac9",
      "metadata": {},
      "source": [
        "Fitting Models with Equations"
      ]
    },
    {
      "cell_type": "code",
      "execution_count": null,
      "id": "85412ab8",
      "metadata": {},
      "outputs": [],
      "source": [
        "df = pd.read_csv('win_prop_erdos_renyi_data.csv')\n",
        "# rename for convenience\n",
        "df = df.rename(columns={'red proportion':'x', 'win rate':'y'})\n",
        "df['x2'] = df.x**2\n",
        "df['x3'] = df.x**3\n",
        "\n",
        "# 2) Define and fit the cubic‐polynomial BetaModel\n",
        "model = BetaModel.from_formula(\n",
        "    'y ~ x + x2 + x3',\n",
        "    data=df,\n",
        "    link=logit()\n",
        ")\n",
        "result = model.fit()\n",
        "\n",
        "# 3) Inspect estimates\n",
        "print(\"Coefficients and precision:\\n\", result.params)\n",
        "print(\"\\nStandard errors:\\n\", result.bse)\n",
        "print(\"\\nFull summary:\")\n",
        "print(result.summary())\n",
        "\n",
        "# 4) Plot observed vs. fitted curve\n",
        "x_vals = df['x']\n",
        "y_vals = df['y']\n",
        "\n",
        "# build a grid for smoothing\n",
        "x_grid = np.linspace(x_vals.min(), x_vals.max(), 200)\n",
        "grid_df = pd.DataFrame({\n",
        "    'x':  x_grid,\n",
        "    'x2': x_grid**2,\n",
        "    'x3': x_grid**3\n",
        "})\n",
        "\n",
        "# get predicted mean on the grid\n",
        "mu_grid = result.predict(grid_df)\n",
        "\n",
        "plt.figure(figsize=(8,6))\n",
        "plt.scatter(x_vals, y_vals, alpha=0.5, label='Observed')\n",
        "plt.plot(x_grid, mu_grid, lw=2, label='Cubic β-regression fit')\n",
        "plt.xlabel('red proportion')\n",
        "plt.ylabel('win rate')\n",
        "plt.title('Erdős–Rényi: Observed vs. Cubic Beta-Regression Fit')\n",
        "plt.legend()\n",
        "plt.tight_layout()\n",
        "plt.show()"
      ]
    },
    {
      "cell_type": "markdown",
      "id": "8a61eb0f",
      "metadata": {},
      "source": [
        "## Mathematical Model Building"
      ]
    },
    {
      "cell_type": "code",
      "execution_count": 70,
      "id": "a79dd540",
      "metadata": {},
      "outputs": [
        {
          "name": "stdout",
          "output_type": "stream",
          "text": [
            "                            OLS Regression Results                            \n",
            "==============================================================================\n",
            "Dep. Variable:         mafia_win_rate   R-squared:                       0.868\n",
            "Model:                            OLS   Adj. R-squared:                  0.867\n",
            "Method:                 Least Squares   F-statistic:                     1262.\n",
            "Date:                Fri, 02 May 2025   Prob (F-statistic):               0.00\n",
            "Time:                        09:51:19   Log-Likelihood:                 2487.8\n",
            "No. Observations:                 966   AIC:                            -4964.\n",
            "Df Residuals:                     960   BIC:                            -4934.\n",
            "Df Model:                           5                                         \n",
            "Covariance Type:            nonrobust                                         \n",
            "=======================================================================================\n",
            "                          coef    std err          t      P>|t|      [0.025      0.975]\n",
            "---------------------------------------------------------------------------------------\n",
            "Intercept               0.4812      0.003    170.920      0.000       0.476       0.487\n",
            "red_ratio               0.2098      0.008     25.474      0.000       0.194       0.226\n",
            "num_edges               0.0012   3.71e-05     31.647      0.000       0.001       0.001\n",
            "red_ratio:num_edges     0.0005   2.88e-05     16.648      0.000       0.000       0.001\n",
            "red_ratio_sq           -0.2451      0.007    -33.678      0.000      -0.259      -0.231\n",
            "num_edges_sq        -3.704e-06   1.43e-07    -25.811      0.000   -3.99e-06   -3.42e-06\n",
            "==============================================================================\n",
            "Omnibus:                      355.539   Durbin-Watson:                   0.361\n",
            "Prob(Omnibus):                  0.000   Jarque-Bera (JB):             3102.845\n",
            "Skew:                          -1.434   Prob(JB):                         0.00\n",
            "Kurtosis:                      11.298   Cond. No.                     4.38e+05\n",
            "==============================================================================\n",
            "\n",
            "Notes:\n",
            "[1] Standard Errors assume that the covariance matrix of the errors is correctly specified.\n",
            "[2] The condition number is large, 4.38e+05. This might indicate that there are\n",
            "strong multicollinearity or other numerical problems.\n",
            " Coefficients:\n",
            "  beta_0 = 0.4812\n",
            "  beta_1 = 0.2098\n",
            "  beta_2 = 0.0012\n",
            "  beta_3 = 0.0005\n",
            "  beta_4 = -0.2451\n",
            "  beta_5 = -0.00000370\n",
            "\n",
            "R-squared: 0.8680\n"
          ]
        }
      ],
      "source": [
        "df = pd.read_csv('mafia_win_rate_heatmap_data.csv')\n",
        "\n",
        "df = df.copy()\n",
        "df['red_ratio_sq'] = df['red_ratio'] ** 2\n",
        "df['num_edges_sq'] = df['num_edges'] ** 2\n",
        "\n",
        "model = smf.ols(\n",
        "    'mafia_win_rate ~ red_ratio + num_edges + red_ratio:num_edges + red_ratio_sq + num_edges_sq',\n",
        "    data=df\n",
        ").fit()\n",
        "\n",
        "beta_0 = model.params['Intercept']\n",
        "beta_1 = model.params['red_ratio']\n",
        "beta_2 = model.params['num_edges']\n",
        "beta_3 = model.params['red_ratio:num_edges']\n",
        "beta_4 = model.params['red_ratio_sq']\n",
        "beta_5 = model.params['num_edges_sq']\n",
        "r_squared = model.rsquared\n",
        "\n",
        "print(model.summary())\n",
        "print(\" Coefficients:\")\n",
        "print(f\"  beta_0 = {beta_0:.4f}\")\n",
        "print(f\"  beta_1 = {beta_1:.4f}\")\n",
        "print(f\"  beta_2 = {beta_2:.4f}\")\n",
        "print(f\"  beta_3 = {beta_3:.4f}\")\n",
        "print(f\"  beta_4 = {beta_4:.4f}\")\n",
        "print(f\"  beta_5 = {beta_5:.8f}\")\n",
        "print(f\"\\nR-squared: {r_squared:.4f}\")"
      ]
    },
    {
      "cell_type": "code",
      "execution_count": 60,
      "id": "b3c42f28",
      "metadata": {},
      "outputs": [],
      "source": [
        "def predict(red_ratio, num_edges):\n",
        "    return (\n",
        "        beta_0\n",
        "        + beta_1 * red_ratio\n",
        "        + beta_2 * num_edges\n",
        "        + beta_3 * red_ratio * num_edges\n",
        "        + beta_4 * red_ratio ** 2\n",
        "        + beta_5 * num_edges ** 2\n",
        "    )\n",
        "\n",
        "def plot_vs_red_ratio(fixed_edges):\n",
        "    red_vals = np.linspace(0, 1, 100)\n",
        "    predicted = predict(red_vals, fixed_edges)\n",
        "    actual = df[np.abs(df['num_edges'] - fixed_edges) <= 2]\n",
        "\n",
        "    plt.figure(figsize=(8, 5))\n",
        "    plt.plot(red_vals, predicted, label='Predicted (Model)', color='blue')\n",
        "    plt.scatter(actual['red_ratio'], actual['mafia_win_rate'], color='orange', alpha=0.6, label='Simulated Data')\n",
        "    plt.title(f'Mafia Win Rate vs Red Ratio (Edges = {fixed_edges})')\n",
        "    plt.xlabel('Red Edge Ratio')\n",
        "    plt.ylabel('Mafia Win Rate')\n",
        "    plt.ylim(0, 1)\n",
        "    plt.grid(True)\n",
        "    plt.legend()\n",
        "    plt.tight_layout()\n",
        "    plt.show()\n",
        "\n",
        "def plot_vs_num_edges(fixed_red_ratio):\n",
        "    edge_vals = np.linspace(df['num_edges'].min(), df['num_edges'].max(), 100)\n",
        "    predicted = predict(fixed_red_ratio, edge_vals)\n",
        "    actual = df[np.abs(df['red_ratio'] - fixed_red_ratio) <= 0.01]\n",
        "\n",
        "    plt.figure(figsize=(8, 5))\n",
        "    plt.plot(edge_vals, predicted, label='Predicted (Model)', color='green')\n",
        "    plt.scatter(actual['num_edges'], actual['mafia_win_rate'], color='orange', alpha=0.6, label='Simulated Data')\n",
        "    plt.title(f'Mafia Win Rate vs Number of Edges (Red Ratio = {fixed_red_ratio})')\n",
        "    plt.xlabel('Number of Edges')\n",
        "    plt.ylabel('Mafia Win Rate')\n",
        "    plt.ylim(0, 1)\n",
        "    plt.grid(True)\n",
        "    plt.legend()\n",
        "    plt.tight_layout()\n",
        "    plt.show()"
      ]
    },
    {
      "cell_type": "code",
      "execution_count": 61,
      "id": "9729d5a3",
      "metadata": {},
      "outputs": [
        {
          "name": "stdout",
          "output_type": "stream",
          "text": [
            "0.5977216329678788\n"
          ]
        },
        {
          "data": {
            "image/png": "[encoded data removed]",
            "text/plain": [
              "<Figure size 800x500 with 1 Axes>"
            ]
          },
          "metadata": {},
          "output_type": "display_data"
        },
        {
          "data": {
            "image/png": "[encoded data removed]",
            "text/plain": [
              "<Figure size 800x500 with 1 Axes>"
            ]
          },
          "metadata": {},
          "output_type": "display_data"
        }
      ],
      "source": [
        "print(predict(0.3, 72))\n",
        "plot_vs_red_ratio(213)\n",
        "plot_vs_num_edges(0.3)"
      ]
    },
    {
      "cell_type": "markdown",
      "id": "9df2efef",
      "metadata": {},
      "source": [
        "# Testing Robustness for Prefrential Attachment Graph"
      ]
    },
    {
      "cell_type": "code",
      "execution_count": null,
      "id": "765748cd",
      "metadata": {},
      "outputs": [],
      "source": [
        "def PA_mafia_game_simulation_red_green(n, m,m_ba, prop_red_edges,\n",
        "                              red_bias_weight=2.0, green_bias_weight=0.5,\n",
        "                              max_steps=100):\n",
        "    # Number of Mafia by sqrt rule\n",
        "    num_mafia = m\n",
        "    mafia_indices = set(random.sample(range(n), num_mafia))\n",
        "    players = {i: 'Mafia' if i in mafia_indices else 'Town' for i in range(n)}\n",
        "    alive = set(players.keys())\n",
        "\n",
        "    # Build single BA network\n",
        "    G = nx.barabasi_albert_graph(n, min(m_ba, n-1))\n",
        "    edges = list(G.edges())\n",
        "    # Color edges red vs green by sampling\n",
        "   # Normalize the edges so (1,2) and (2,1) are treated the same\n",
        "    edges = [tuple(sorted(edge)) for edge in G.edges()]\n",
        "    #print(\"DEBUG\",edges)\n",
        "    #edges = list(set(edges))  # Remove duplicates, just in case\n",
        "\n",
        "    # Sample red edges\n",
        "    num_red = int(prop_red_edges * len(edges))\n",
        "    red_edges = set(random.sample(edges, num_red))\n",
        "\n",
        "    # Remaining are green edges\n",
        "    green_edges = set(edges) - red_edges\n",
        "\n",
        "    #print(\"DEBUG\",red_edges)\n",
        "    #print(\"DEBUG\",green_edges)\n",
        "\n",
        "\n",
        "    red_G = nx.Graph()\n",
        "    red_G.add_nodes_from(range(n))\n",
        "    red_G.add_edges_from(red_edges)\n",
        "    green_G = nx.Graph()\n",
        "    green_G.add_nodes_from(range(n))\n",
        "    green_G.add_edges_from(green_edges)\n",
        "\n",
        "    #print(\"DEBUG\",\"Red graph: \" , )\n",
        "    #print(\"DEBUG\",\"Green graph: \" , )\n",
        "\n",
        "    t = 0\n",
        "    while True:\n",
        "        mafia_alive = [p for p in alive if players[p] == 'Mafia']\n",
        "        town_alive = [p for p in alive if players[p] == 'Town']\n",
        "\n",
        "        # Win/loss conditions\n",
        "        if not mafia_alive:\n",
        "            return False\n",
        "        if len(mafia_alive) >= len(town_alive):\n",
        "            return True\n",
        "\n",
        "        if t % 2 == 0:\n",
        "            # Night: Mafia kill one Townsperson\n",
        "            weights = []\n",
        "            #pos = nx.spring_layout(red_G, seed=42)\n",
        "            #pos = nx.spring_layout(green_G, seed=42)\n",
        "            #\"DEBUG\"\n",
        "            # plot_current_state(red_G, alive, players, red_G.edges(), green_G.edges(), pos, t)\n",
        "            for town in town_alive:\n",
        "                num_enemy = sum(1 for ma in mafia_alive if red_G.has_edge(town, ma))\n",
        "                num_friend = sum(1 for ma in mafia_alive if green_G.has_edge(town, ma))\n",
        "                w = (red_bias_weight ** num_enemy) * (green_bias_weight ** num_friend)\n",
        "                weights.append(w)\n",
        "            #print(\"DEBUG\",weights)\n",
        "            victim = random.choices(town_alive, weights=weights, k=1)[0]\n",
        "            alive.remove(victim)\n",
        "        else:\n",
        "            # Day: all alive vote to lynch one\n",
        "            alive_list = list(alive)\n",
        "            weights = []\n",
        "            #\"DEBUG\",\n",
        "            #plot_current_state(red_G, alive, players, red_G.edges(), green_G.edges(), pos, t)\n",
        "            for node in alive_list:\n",
        "                num_enemy = sum(1 for nei in red_G.neighbors(node) if nei in alive)\n",
        "                num_friend = sum(1 for nei in green_G.neighbors(node) if nei in alive)\n",
        "                w = (red_bias_weight ** num_enemy) * (green_bias_weight ** num_friend)\n",
        "                weights.append(w)\n",
        "            #print(\"DEBUG\",weights)\n",
        "            victim = random.choices(alive_list, weights=weights, k=1)[0]\n",
        "            alive.remove(victim)\n",
        "\n",
        "        #print(\"DEBUG\",\"t = \", t, \" Alive list = \", alive)\n",
        "\n",
        "        t += 1\n",
        "        if t > max_steps:\n",
        "            return None"
      ]
    },
    {
      "cell_type": "code",
      "execution_count": null,
      "id": "f50a3c65",
      "metadata": {},
      "outputs": [],
      "source": [
        "n = 7\n",
        "m = 1\n",
        "m_ba = 3\n",
        "prop_red_edges = 0.5\n",
        "red_bias_weight = 2.0\n",
        "green_bias_weight = 0.5\n",
        "max_steps = 10000\n",
        "\n",
        "print(min(m_ba, n-1))\n",
        "\n",
        "PA_mafia_game_simulation_red_green(\n",
        "            n, m,m_ba, prop_red_edges,\n",
        "            red_bias_weight, green_bias_weight, max_steps)"
      ]
    },
    {
      "cell_type": "markdown",
      "id": "325bfff9",
      "metadata": {},
      "source": [
        "Fix n = 22, m = 2. We change the Barabasi-Albert \"m\" and the proportion of red to green edges."
      ]
    },
    {
      "cell_type": "code",
      "execution_count": null,
      "id": "3508caa6",
      "metadata": {},
      "outputs": [],
      "source": [
        "results = []\n",
        "def PA_estimate_mafia_win_prob_red_green_red_green_proportion_mba_experiment(m_ba, prop_red_edges,n=22, m=2,\n",
        "                               n_simulations=10000,\n",
        "                               red_bias_weight=2.0, green_bias_weight=0.5,\n",
        "                               max_steps=100):\n",
        "    wins = 0\n",
        "    for _ in range(n_simulations):\n",
        "        result = PA_mafia_game_simulation_red_green(\n",
        "            n, m,m_ba, prop_red_edges,\n",
        "            red_bias_weight, green_bias_weight, max_steps)\n",
        "        if result:\n",
        "            wins += 1\n",
        "    return wins / n_simulations\n",
        "\n",
        "\n",
        "def PA_red_green_proportion_experiment(n, m, max_steps=1000, red_bias_weight=2.0, green_bias_weight=0.5, step=0.01):\n",
        "    proportions = np.arange(step, 1.0 + step, step)\n",
        "    m_ba = np.arange(1,22,1)\n",
        "    win_rates = []\n",
        "    for initial_m in m_ba:\n",
        "        for red_prop in proportions:\n",
        "            win_rate = PA_estimate_mafia_win_prob_red_green_red_green_proportion_mba_experiment(initial_m,red_prop)\n",
        "            win_rates.append(win_rate)\n",
        "    \n",
        "            results.append({\n",
        "                'm_barabasi_albert': initial_m,\n",
        "                'red_ratio': red_prop,\n",
        "                'mafia_win_rate': win_rate\n",
        "            })\n",
        "    df = pd.DataFrame(results)\n",
        "    df.to_csv('PA_mafia_win_rate_heatmap_data.csv', index=False)\n",
        "    return results\n",
        "    \n",
        "result = PA_red_green_proportion_experiment(22, 2, max_steps=1000, red_bias_weight=2.0, green_bias_weight=0.5, step=0.1)"
      ]
    },
    {
      "cell_type": "code",
      "execution_count": null,
      "id": "8e3d801d",
      "metadata": {},
      "outputs": [
        {
          "data": {
            "image/png": "[encoded data removed]",
            "text/plain": [
              "<Figure size 1400x800 with 2 Axes>"
            ]
          },
          "metadata": {},
          "output_type": "display_data"
        }
      ],
      "source": [
        "# Pivot for heatmap\n",
        "df = pd.read_csv('PA_mafia_win_rate_heatmap_data.csv')\n",
        "df['red_ratio'] = df['red_ratio'].round(2)\n",
        "df_sorted = df.sort_values(by='red_ratio', ascending=True)\n",
        "heatmap_data = df_sorted.pivot(index='red_ratio', columns='m_barabasi_albert', values='mafia_win_rate')\n",
        "\n",
        "# Plot heatmap\n",
        "plt.figure(figsize=(14, 8))\n",
        "sns.heatmap(\n",
        "    heatmap_data,\n",
        "    cmap='coolwarm',\n",
        "    vmin=0,\n",
        "    vmax=1,\n",
        "    cbar_kws={'label': 'Mafia Win Rate'}\n",
        ")\n",
        "plt.title('Mafia Win Rate Heatmap (Preferential attachment): Number of Edges vs Red Edge Ratio')\n",
        "plt.xlabel('Number of edges added per iteration of Barabasi-Albert')\n",
        "plt.ylabel('Red Edge Ratio (0 = all green, 1 = all red)')\n",
        "plt.gca().invert_yaxis() \n",
        "plt.tight_layout()\n",
        "plt.show()"
      ]
    },
    {
      "cell_type": "markdown",
      "id": "57vNGJyVpYzo",
      "metadata": {
        "id": "57vNGJyVpYzo"
      },
      "source": [
        "#### For loop to run through different parameters"
      ]
    },
    {
      "cell_type": "markdown",
      "id": "be326667",
      "metadata": {
        "id": "be326667"
      },
      "source": [
        "Questions:\n",
        "\n",
        "Weight estimation: How to find the weight of red/green edges\n",
        "sensitivity analysis\n",
        "\n",
        "DE: Difference Equation to find probability?\n",
        "\n",
        "\n",
        "\n",
        "Next steps\n",
        "Final product: probability function on n, r, and g from the simulations => NETWORK MODEL\n",
        "\n",
        "think about nondimensionalization where growth size\n",
        "think of the fraction of edges would be ratio (KHOA)\n",
        "finding boundaries.\n",
        "\n",
        "even though we modeled the simulations based on our hypothesis.\n",
        "\n",
        "\n",
        "next steps:\n",
        "nondimensionalization on r and g and boundaries analysis\n",
        "t-test on p-value => significant difference when adding red/green edges?\n",
        "probability function on n, r, and g from the simulations"
      ]
    }
  ],
  "metadata": {
    "colab": {
      "provenance": []
    },
    "kernelspec": {
      "display_name": "base",
      "language": "python",
      "name": "python3"
    },
    "language_info": {
      "codemirror_mode": {
        "name": "ipython",
        "version": 3
      },
      "file_extension": ".py",
      "mimetype": "text/x-python",
      "name": "python",
      "nbconvert_exporter": "python",
      "pygments_lexer": "ipython3",
      "version": "3.10.14"
    }
  },
  "nbformat": 4,
  "nbformat_minor": 5
}
