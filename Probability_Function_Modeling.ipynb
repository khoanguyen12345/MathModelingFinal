{
 "cells": [
  {
   "cell_type": "code",
   "execution_count": 2,
   "id": "3b46d529",
   "metadata": {},
   "outputs": [],
   "source": [
    "import matplotlib.pyplot as plt\n",
    "import math\n",
    "import numpy as np\n",
    "import pandas as pd\n",
    "from statsmodels.othermod.betareg import BetaModel\n",
    "from statsmodels.genmod.families.links import cloglog,log,logit,probit,nbinom\n",
    "import statsmodels.formula.api as smf\n",
    "\n",
    "import itertools\n",
    "import statsmodels.api as sm\n",
    "import pandas as pd"
   ]
  },
  {
   "cell_type": "code",
   "execution_count": 9,
   "id": "ffe0a26e",
   "metadata": {},
   "outputs": [],
   "source": [
    "df = pd.read_csv('mafia_win_rate_heatmap_data.csv')\n",
    "df = df[df['num_edges'] > 0].copy() # we assume that there would be at least one connection in the friendship. This is also because we wanted to use log(num edge), but it cannot be log(0)\n",
    "df['log_num_edges'] = np.log(df['num_edges'])\n",
    "df['red_ratio_sq'] = df['red_ratio'] ** 2\n",
    "df['num_edges_sq'] = df['num_edges'] ** 2\n",
    "df['log_num_edges'] = np.log(df['num_edges'])\n",
    "df['interaction_term'] = df['red_ratio'] *  df['num_edges']\n",
    "df['num_edges_sqrt'] = np.sqrt(df['num_edges'])\n",
    "\n"
   ]
  },
  {
   "cell_type": "code",
   "execution_count": 11,
   "id": "b65fcbd3",
   "metadata": {},
   "outputs": [
    {
     "name": "stdout",
     "output_type": "stream",
     "text": [
      "0\n",
      "0\n"
     ]
    }
   ],
   "source": [
    "# CHECK NA AND INF \n",
    "print(df['log_num_edges'].isna().sum())\n",
    "print(np.isinf(df['log_num_edges']).sum())"
   ]
  },
  {
   "cell_type": "code",
   "execution_count": 18,
   "id": "a258fe02",
   "metadata": {},
   "outputs": [
    {
     "name": "stdout",
     "output_type": "stream",
     "text": [
      "                            OLS Regression Results                            \n",
      "==============================================================================\n",
      "Dep. Variable:         mafia_win_rate   R-squared:                       0.779\n",
      "Model:                            OLS   Adj. R-squared:                  0.777\n",
      "Method:                 Least Squares   F-statistic:                     660.2\n",
      "Date:                Thu, 08 May 2025   Prob (F-statistic):          2.23e-304\n",
      "Time:                        22:00:29   Log-Likelihood:                 2186.5\n",
      "No. Observations:                 945   AIC:                            -4361.\n",
      "Df Residuals:                     939   BIC:                            -4332.\n",
      "Df Model:                           5                                         \n",
      "Covariance Type:            nonrobust                                         \n",
      "=======================================================================================\n",
      "                          coef    std err          t      P>|t|      [0.025      0.975]\n",
      "---------------------------------------------------------------------------------------\n",
      "Intercept               0.4863      0.004    125.350      0.000       0.479       0.494\n",
      "red_ratio               0.2060      0.011     18.907      0.000       0.185       0.227\n",
      "num_edges               0.0011   5.15e-05     21.883      0.000       0.001       0.001\n",
      "red_ratio:num_edges     0.0005   3.87e-05     12.918      0.000       0.000       0.001\n",
      "red_ratio_sq           -0.2477      0.010    -25.921      0.000      -0.266      -0.229\n",
      "num_edges_sq        -3.579e-06   1.97e-07    -18.191      0.000   -3.97e-06   -3.19e-06\n",
      "==============================================================================\n",
      "Omnibus:                      156.055   Durbin-Watson:                   1.012\n",
      "Prob(Omnibus):                  0.000   Jarque-Bera (JB):              525.322\n",
      "Skew:                          -0.782   Prob(JB):                    8.47e-115\n",
      "Kurtosis:                       6.301   Cond. No.                     4.45e+05\n",
      "==============================================================================\n",
      "\n",
      "Notes:\n",
      "[1] Standard Errors assume that the covariance matrix of the errors is correctly specified.\n",
      "[2] The condition number is large, 4.45e+05. This might indicate that there are\n",
      "strong multicollinearity or other numerical problems.\n"
     ]
    }
   ],
   "source": [
    "model1 = smf.ols(\n",
    "    'mafia_win_rate ~ red_ratio + num_edges + red_ratio*num_edges + red_ratio_sq + num_edges_sq',\n",
    "    data=df\n",
    ").fit()\n",
    "print(model1.summary())"
   ]
  },
  {
   "cell_type": "code",
   "execution_count": null,
   "id": "3b78bcda",
   "metadata": {},
   "outputs": [
    {
     "name": "stdout",
     "output_type": "stream",
     "text": [
      "Model Summary:\n",
      "                            OLS Regression Results                            \n",
      "==============================================================================\n",
      "Dep. Variable:         mafia_win_rate   R-squared:                       0.721\n",
      "Model:                            OLS   Adj. R-squared:                  0.721\n",
      "Method:                 Least Squares   F-statistic:                     812.3\n",
      "Date:                Thu, 08 May 2025   Prob (F-statistic):          1.43e-260\n",
      "Time:                        21:46:02   Log-Likelihood:                 2078.1\n",
      "No. Observations:                 945   AIC:                            -4148.\n",
      "Df Residuals:                     941   BIC:                            -4129.\n",
      "Df Model:                           3                                         \n",
      "Covariance Type:            nonrobust                                         \n",
      "=================================================================================\n",
      "                    coef    std err          t      P>|t|      [0.025      0.975]\n",
      "---------------------------------------------------------------------------------\n",
      "Intercept         0.3601      0.005     70.963      0.000       0.350       0.370\n",
      "red_ratio         0.2648      0.011     23.874      0.000       0.243       0.287\n",
      "red_ratio_sq     -0.2477      0.011    -23.137      0.000      -0.269      -0.227\n",
      "log_num_edges     0.0430      0.001     43.208      0.000       0.041       0.045\n",
      "==============================================================================\n",
      "Omnibus:                       45.511   Durbin-Watson:                   0.814\n",
      "Prob(Omnibus):                  0.000   Jarque-Bera (JB):               71.929\n",
      "Skew:                          -0.390   Prob(JB):                     2.40e-16\n",
      "Kurtosis:                       4.104   Cond. No.                         83.2\n",
      "==============================================================================\n",
      "\n",
      "Notes:\n",
      "[1] Standard Errors assume that the covariance matrix of the errors is correctly specified.\n"
     ]
    }
   ],
   "source": [
    "model2 = smf.ols('mafia_win_rate ~ red_ratio + red_ratio_sq + log_num_edges',data=df).fit()\n",
    "print(model2.summary())"
   ]
  },
  {
   "cell_type": "code",
   "execution_count": 19,
   "id": "d0a5a668",
   "metadata": {},
   "outputs": [
    {
     "name": "stdout",
     "output_type": "stream",
     "text": [
      "                            OLS Regression Results                            \n",
      "==============================================================================\n",
      "Dep. Variable:         mafia_win_rate   R-squared:                       0.780\n",
      "Model:                            OLS   Adj. R-squared:                  0.778\n",
      "Method:                 Least Squares   F-statistic:                     553.2\n",
      "Date:                Thu, 08 May 2025   Prob (F-statistic):          5.50e-304\n",
      "Time:                        22:01:15   Log-Likelihood:                 2188.9\n",
      "No. Observations:                 945   AIC:                            -4364.\n",
      "Df Residuals:                     938   BIC:                            -4330.\n",
      "Df Model:                           6                                         \n",
      "Covariance Type:            nonrobust                                         \n",
      "====================================================================================\n",
      "                       coef    std err          t      P>|t|      [0.025      0.975]\n",
      "------------------------------------------------------------------------------------\n",
      "Intercept            0.4668      0.010     48.003      0.000       0.448       0.486\n",
      "num_edges            0.0005      0.000      1.841      0.066   -3.43e-05       0.001\n",
      "red_ratio            0.2060      0.011     18.945      0.000       0.185       0.227\n",
      "red_ratio_sq        -0.2477      0.010    -25.974      0.000      -0.266      -0.229\n",
      "num_edges_sq      -2.53e-06   5.18e-07     -4.888      0.000   -3.55e-06   -1.51e-06\n",
      "interaction_term     0.0005   3.86e-05     12.944      0.000       0.000       0.001\n",
      "num_edges_sqrt       0.0070      0.003      2.191      0.029       0.001       0.013\n",
      "==============================================================================\n",
      "Omnibus:                      167.268   Durbin-Watson:                   1.017\n",
      "Prob(Omnibus):                  0.000   Jarque-Bera (JB):              595.899\n",
      "Skew:                          -0.821   Prob(JB):                    4.00e-130\n",
      "Kurtosis:                       6.527   Cond. No.                     4.49e+05\n",
      "==============================================================================\n",
      "\n",
      "Notes:\n",
      "[1] Standard Errors assume that the covariance matrix of the errors is correctly specified.\n",
      "[2] The condition number is large, 4.49e+05. This might indicate that there are\n",
      "strong multicollinearity or other numerical problems.\n"
     ]
    }
   ],
   "source": [
    "model3 = smf.ols('mafia_win_rate ~ num_edges + red_ratio + red_ratio_sq + num_edges_sq +interaction_term + num_edges_sqrt',data=df).fit()\n",
    "print(model3.summary())"
   ]
  },
  {
   "cell_type": "markdown",
   "id": "2fec611c",
   "metadata": {},
   "source": [
    "We see that model3 is the best in terms of AIC and Rsquared, thus we will build our predict function using model 3 outputs. "
   ]
  },
  {
   "cell_type": "code",
   "execution_count": 25,
   "id": "42fae655",
   "metadata": {},
   "outputs": [],
   "source": [
    "beta_0 = model3.params['Intercept']\n",
    "beta_1 = model3.params['num_edges']\n",
    "beta_2 = model3.params['red_ratio']\n",
    "beta_3 = model3.params['red_ratio_sq']\n",
    "beta_4 = model3.params['num_edges_sq']\n",
    "beta_5 = model3.params['interaction_term']\n",
    "beta_6 = model3.params['num_edges_sqrt']\n",
    "r_squared = model3.rsquared\n",
    "\n",
    "\n",
    "def predict(red_ratio, num_edges):\n",
    "    return (\n",
    "        beta_0\n",
    "        + beta_1 * num_edges\n",
    "        + beta_2 * red_ratio\n",
    "        + beta_3 * red_ratio**2 \n",
    "        + beta_4 * num_edges**2 \n",
    "        + beta_5 * num_edges*red_ratio \n",
    "        + beta_6 * math.sqrt(num_edges)\n",
    "    )\n",
    "\n",
    "def plot_vs_red_ratio(fixed_edges):\n",
    "    red_vals = np.linspace(0, 1, 100)\n",
    "    predicted = predict(red_vals, fixed_edges)\n",
    "    actual = df[np.abs(df['num_edges'] - fixed_edges) <= 2]\n",
    "\n",
    "    plt.figure(figsize=(8, 5))\n",
    "    plt.plot(red_vals, predicted, label='Predicted (Model)', color='blue')\n",
    "    plt.scatter(actual['red_ratio'], actual['mafia_win_rate'], color='orange', alpha=0.6, label='Simulated Data')\n",
    "    plt.title(f'Mafia Win Rate vs Red Ratio (Edges = {fixed_edges})')\n",
    "    plt.xlabel('Red Edge Ratio')\n",
    "    plt.ylabel('Mafia Win Rate')\n",
    "    plt.ylim(0, 1)\n",
    "    plt.grid(True)\n",
    "    plt.legend()\n",
    "    plt.tight_layout()\n",
    "    plt.show()\n",
    "\n",
    "def plot_vs_num_edges(fixed_red_ratio):\n",
    "    edge_vals = np.linspace(df['num_edges'].min(), df['num_edges'].max(), 100)\n",
    "    predicted = predict(fixed_red_ratio, edge_vals)\n",
    "    actual = df[np.abs(df['red_ratio'] - fixed_red_ratio) <= 0.01]\n",
    "\n",
    "    plt.figure(figsize=(8, 5))\n",
    "    plt.plot(edge_vals, predicted, label='Predicted (Model)', color='green')\n",
    "    plt.scatter(actual['num_edges'], actual['mafia_win_rate'], color='orange', alpha=0.6, label='Simulated Data')\n",
    "    plt.title(f'Mafia Win Rate vs Number of Edges (Red Ratio = {fixed_red_ratio})')\n",
    "    plt.xlabel('Number of Edges')\n",
    "    plt.ylabel('Mafia Win Rate')\n",
    "    plt.ylim(0, 1)\n",
    "    plt.grid(True)\n",
    "    plt.legend()\n",
    "    plt.tight_layout()\n",
    "    plt.show()"
   ]
  },
  {
   "cell_type": "code",
   "execution_count": 26,
   "id": "f3c8f243",
   "metadata": {},
   "outputs": [
    {
     "data": {
      "text/plain": [
       "0.5608354697901756"
      ]
     },
     "execution_count": 26,
     "metadata": {},
     "output_type": "execute_result"
    }
   ],
   "source": [
    "predict(0.7, 37)"
   ]
  }
 ],
 "metadata": {
  "kernelspec": {
   "display_name": "myenv",
   "language": "python",
   "name": "python3"
  },
  "language_info": {
   "codemirror_mode": {
    "name": "ipython",
    "version": 3
   },
   "file_extension": ".py",
   "mimetype": "text/x-python",
   "name": "python",
   "nbconvert_exporter": "python",
   "pygments_lexer": "ipython3",
   "version": "3.12.2"
  }
 },
 "nbformat": 4,
 "nbformat_minor": 5
}
